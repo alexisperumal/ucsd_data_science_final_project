{
 "cells": [
  {
   "cell_type": "code",
   "execution_count": 79,
   "metadata": {},
   "outputs": [],
   "source": [
    "#dependecies\n",
    "import pandas as pd\n",
    "import numpy as np\n",
    "import os"
   ]
  },
  {
   "cell_type": "code",
   "execution_count": 80,
   "metadata": {},
   "outputs": [],
   "source": [
    "from sklearn.model_selection import train_test_split\n",
    "from sklearn.preprocessing import LabelEncoder, MinMaxScaler\n",
    "from tensorflow.keras.utils import to_categorical"
   ]
  },
  {
   "cell_type": "code",
   "execution_count": 81,
   "metadata": {},
   "outputs": [],
   "source": [
    "df = pd.read_csv(os.path.join('..', \"arun/Resources/\", 'diagnosis-of-covid-19-and-its-clinical-spectrum.csv'))"
   ]
  },
  {
   "cell_type": "code",
   "execution_count": 125,
   "metadata": {},
   "outputs": [],
   "source": [
    "#Data pre-processing\n",
    "data = df[['sars_cov_2_exam_result','patient_age_quantile', 'leukocytes', 'platelets', 'monocytes', 'hematocrit', 'eosinophils', 'red_blood_cells', 'hemoglobin', 'lymphocytes', 'mean_platelet_volume']]"
   ]
  },
  {
   "cell_type": "code",
   "execution_count": 126,
   "metadata": {},
   "outputs": [],
   "source": [
    "feature_names = ['patient_age_quantile', 'leukocytes', 'platelets', 'monocytes', 'hematocrit', 'eosinophils', 'red_blood_cells', 'hemoglobin', 'lymphocytes', 'mean_platelet_volume']"
   ]
  },
  {
   "cell_type": "code",
   "execution_count": 127,
   "metadata": {},
   "outputs": [
    {
     "name": "stdout",
     "output_type": "stream",
     "text": [
      "(5644, 10) (5644,)\n"
     ]
    }
   ],
   "source": [
    "y = data['sars_cov_2_exam_result'].values\n",
    "X = data.drop('sars_cov_2_exam_result', axis=1).values\n",
    "print(X.shape, y.shape)"
   ]
  },
  {
   "cell_type": "code",
   "execution_count": 128,
   "metadata": {},
   "outputs": [],
   "source": [
    "#handle missing data\n",
    "from sklearn.impute import SimpleImputer\n",
    "imputer = SimpleImputer(missing_values=np.nan, strategy='mean')\n",
    "imputer.fit(X[:, 1:len(feature_names)])\n",
    "X[:, 1:len(feature_names)] = imputer.transform(X[:, 1:len(feature_names)])"
   ]
  },
  {
   "cell_type": "code",
   "execution_count": 129,
   "metadata": {},
   "outputs": [],
   "source": [
    "X_train, X_test, y_train, y_test = train_test_split(X, y, random_state=42)"
   ]
  },
  {
   "cell_type": "code",
   "execution_count": 130,
   "metadata": {},
   "outputs": [],
   "source": [
    "X_scaler = MinMaxScaler().fit(X_train)\n",
    "X_train_scaled = X_scaler.transform(X_train)\n",
    "X_test_scaled = X_scaler.transform(X_test)"
   ]
  },
  {
   "cell_type": "code",
   "execution_count": 131,
   "metadata": {},
   "outputs": [],
   "source": [
    "#Label-encode data set\n",
    "label_encoder = LabelEncoder()\n",
    "label_encoder.fit(y_train)\n",
    "encoded_y_train = label_encoder.transform(y_train)\n",
    "encoded_y_test = label_encoder.transform(y_test)"
   ]
  },
  {
   "cell_type": "code",
   "execution_count": 132,
   "metadata": {},
   "outputs": [],
   "source": [
    "# Convert encoded labels to one-hot-encoding\n",
    "y_train_categorical = to_categorical(encoded_y_train)\n",
    "y_test_categorical = to_categorical(encoded_y_test)"
   ]
  },
  {
   "cell_type": "code",
   "execution_count": 133,
   "metadata": {},
   "outputs": [],
   "source": [
    "from tensorflow.keras.models import Sequential\n",
    "from tensorflow.keras.layers import Dense"
   ]
  },
  {
   "cell_type": "code",
   "execution_count": 138,
   "metadata": {},
   "outputs": [],
   "source": [
    "# Creating model and adding layers \n",
    "model = Sequential()\n",
    "model.add(Dense(units=100, activation='relu', input_dim=10))\n",
    "model.add(Dense(units=100, activation='relu'))\n",
    "model.add(Dense(units=2, activation='softmax'))"
   ]
  },
  {
   "cell_type": "code",
   "execution_count": 139,
   "metadata": {},
   "outputs": [],
   "source": [
    "# Compile and fit the model\n",
    "model.compile(optimizer='adam',\n",
    "              loss='categorical_crossentropy',\n",
    "              metrics=['accuracy'])"
   ]
  },
  {
   "cell_type": "code",
   "execution_count": 140,
   "metadata": {},
   "outputs": [
    {
     "name": "stdout",
     "output_type": "stream",
     "text": [
      "Model: \"sequential_7\"\n",
      "_________________________________________________________________\n",
      "Layer (type)                 Output Shape              Param #   \n",
      "=================================================================\n",
      "dense_21 (Dense)             (None, 100)               1100      \n",
      "_________________________________________________________________\n",
      "dense_22 (Dense)             (None, 100)               10100     \n",
      "_________________________________________________________________\n",
      "dense_23 (Dense)             (None, 2)                 202       \n",
      "=================================================================\n",
      "Total params: 11,402\n",
      "Trainable params: 11,402\n",
      "Non-trainable params: 0\n",
      "_________________________________________________________________\n"
     ]
    }
   ],
   "source": [
    "model.summary()"
   ]
  },
  {
   "cell_type": "code",
   "execution_count": 141,
   "metadata": {},
   "outputs": [
    {
     "name": "stdout",
     "output_type": "stream",
     "text": [
      "Train on 4233 samples\n",
      "Epoch 1/60\n",
      "4233/4233 - 0s - loss: 0.3501 - accuracy: 0.8989\n",
      "Epoch 2/60\n",
      "4233/4233 - 0s - loss: 0.3210 - accuracy: 0.8991\n",
      "Epoch 3/60\n",
      "4233/4233 - 0s - loss: 0.3198 - accuracy: 0.8991\n",
      "Epoch 4/60\n",
      "4233/4233 - 0s - loss: 0.3170 - accuracy: 0.8991\n",
      "Epoch 5/60\n",
      "4233/4233 - 0s - loss: 0.3139 - accuracy: 0.8991\n",
      "Epoch 6/60\n",
      "4233/4233 - 0s - loss: 0.3111 - accuracy: 0.8991\n",
      "Epoch 7/60\n",
      "4233/4233 - 0s - loss: 0.3126 - accuracy: 0.8991\n",
      "Epoch 8/60\n",
      "4233/4233 - 0s - loss: 0.3079 - accuracy: 0.8991\n",
      "Epoch 9/60\n",
      "4233/4233 - 0s - loss: 0.3085 - accuracy: 0.8991\n",
      "Epoch 10/60\n",
      "4233/4233 - 0s - loss: 0.3071 - accuracy: 0.9001\n",
      "Epoch 11/60\n",
      "4233/4233 - 0s - loss: 0.3075 - accuracy: 0.8994\n",
      "Epoch 12/60\n",
      "4233/4233 - 0s - loss: 0.3078 - accuracy: 0.9001\n",
      "Epoch 13/60\n",
      "4233/4233 - 0s - loss: 0.3046 - accuracy: 0.9005\n",
      "Epoch 14/60\n",
      "4233/4233 - 0s - loss: 0.3054 - accuracy: 0.9008\n",
      "Epoch 15/60\n",
      "4233/4233 - 0s - loss: 0.3044 - accuracy: 0.9017\n",
      "Epoch 16/60\n",
      "4233/4233 - 0s - loss: 0.3055 - accuracy: 0.9017\n",
      "Epoch 17/60\n",
      "4233/4233 - 0s - loss: 0.3032 - accuracy: 0.9017\n",
      "Epoch 18/60\n",
      "4233/4233 - 0s - loss: 0.3029 - accuracy: 0.9013\n",
      "Epoch 19/60\n",
      "4233/4233 - 0s - loss: 0.3031 - accuracy: 0.9024\n",
      "Epoch 20/60\n",
      "4233/4233 - 0s - loss: 0.3046 - accuracy: 0.9015\n",
      "Epoch 21/60\n",
      "4233/4233 - 0s - loss: 0.3026 - accuracy: 0.9015\n",
      "Epoch 22/60\n",
      "4233/4233 - 0s - loss: 0.3042 - accuracy: 0.9020\n",
      "Epoch 23/60\n",
      "4233/4233 - 0s - loss: 0.3016 - accuracy: 0.9024\n",
      "Epoch 24/60\n",
      "4233/4233 - 0s - loss: 0.3043 - accuracy: 0.9027\n",
      "Epoch 25/60\n",
      "4233/4233 - 0s - loss: 0.3034 - accuracy: 0.9015\n",
      "Epoch 26/60\n",
      "4233/4233 - 0s - loss: 0.3015 - accuracy: 0.9022\n",
      "Epoch 27/60\n",
      "4233/4233 - 0s - loss: 0.3003 - accuracy: 0.9024\n",
      "Epoch 28/60\n",
      "4233/4233 - 0s - loss: 0.3011 - accuracy: 0.9020\n",
      "Epoch 29/60\n",
      "4233/4233 - 0s - loss: 0.3002 - accuracy: 0.9024\n",
      "Epoch 30/60\n",
      "4233/4233 - 0s - loss: 0.3004 - accuracy: 0.9029\n",
      "Epoch 31/60\n",
      "4233/4233 - 0s - loss: 0.3003 - accuracy: 0.9017\n",
      "Epoch 32/60\n",
      "4233/4233 - 0s - loss: 0.2985 - accuracy: 0.9027\n",
      "Epoch 33/60\n",
      "4233/4233 - 0s - loss: 0.2996 - accuracy: 0.9013\n",
      "Epoch 34/60\n",
      "4233/4233 - 0s - loss: 0.2982 - accuracy: 0.9031\n",
      "Epoch 35/60\n",
      "4233/4233 - 0s - loss: 0.3001 - accuracy: 0.9017\n",
      "Epoch 36/60\n",
      "4233/4233 - 0s - loss: 0.2993 - accuracy: 0.9029\n",
      "Epoch 37/60\n",
      "4233/4233 - 0s - loss: 0.2992 - accuracy: 0.9020\n",
      "Epoch 38/60\n",
      "4233/4233 - 0s - loss: 0.2994 - accuracy: 0.9029\n",
      "Epoch 39/60\n",
      "4233/4233 - 0s - loss: 0.2980 - accuracy: 0.9034\n",
      "Epoch 40/60\n",
      "4233/4233 - 0s - loss: 0.2974 - accuracy: 0.9020\n",
      "Epoch 41/60\n",
      "4233/4233 - 0s - loss: 0.2978 - accuracy: 0.9022\n",
      "Epoch 42/60\n",
      "4233/4233 - 0s - loss: 0.2959 - accuracy: 0.9020\n",
      "Epoch 43/60\n",
      "4233/4233 - 0s - loss: 0.2975 - accuracy: 0.9027\n",
      "Epoch 44/60\n",
      "4233/4233 - 0s - loss: 0.2968 - accuracy: 0.9027\n",
      "Epoch 45/60\n",
      "4233/4233 - 0s - loss: 0.2977 - accuracy: 0.9034\n",
      "Epoch 46/60\n",
      "4233/4233 - 0s - loss: 0.2958 - accuracy: 0.9048\n",
      "Epoch 47/60\n",
      "4233/4233 - 0s - loss: 0.2955 - accuracy: 0.9036\n",
      "Epoch 48/60\n",
      "4233/4233 - 0s - loss: 0.2969 - accuracy: 0.9046\n",
      "Epoch 49/60\n",
      "4233/4233 - 0s - loss: 0.2953 - accuracy: 0.9043\n",
      "Epoch 50/60\n",
      "4233/4233 - 0s - loss: 0.2986 - accuracy: 0.9039\n",
      "Epoch 51/60\n",
      "4233/4233 - 0s - loss: 0.2955 - accuracy: 0.9041\n",
      "Epoch 52/60\n",
      "4233/4233 - 0s - loss: 0.2943 - accuracy: 0.9050\n",
      "Epoch 53/60\n",
      "4233/4233 - 0s - loss: 0.2948 - accuracy: 0.9039\n",
      "Epoch 54/60\n",
      "4233/4233 - 0s - loss: 0.2938 - accuracy: 0.9057\n",
      "Epoch 55/60\n",
      "4233/4233 - 0s - loss: 0.2953 - accuracy: 0.9034\n",
      "Epoch 56/60\n",
      "4233/4233 - 0s - loss: 0.2928 - accuracy: 0.9043\n",
      "Epoch 57/60\n",
      "4233/4233 - 0s - loss: 0.2952 - accuracy: 0.9043\n",
      "Epoch 58/60\n",
      "4233/4233 - 0s - loss: 0.2940 - accuracy: 0.9053\n",
      "Epoch 59/60\n",
      "4233/4233 - 0s - loss: 0.2944 - accuracy: 0.9046\n",
      "Epoch 60/60\n",
      "4233/4233 - 0s - loss: 0.2939 - accuracy: 0.9048\n"
     ]
    },
    {
     "data": {
      "text/plain": [
       "<tensorflow.python.keras.callbacks.History at 0x1a2f36b630>"
      ]
     },
     "execution_count": 141,
     "metadata": {},
     "output_type": "execute_result"
    }
   ],
   "source": [
    "model.fit(\n",
    "    X_train_scaled,\n",
    "    y_train_categorical,\n",
    "    epochs=60,\n",
    "    shuffle=True,\n",
    "    verbose=2\n",
    ")"
   ]
  },
  {
   "cell_type": "code",
   "execution_count": 142,
   "metadata": {},
   "outputs": [
    {
     "name": "stdout",
     "output_type": "stream",
     "text": [
      "1411/1411 - 0s - loss: 0.2942 - accuracy: 0.9093\n",
      "Normal Neural Network - Loss: 0.29417793117965224, Accuracy: 0.9092841744422913\n"
     ]
    }
   ],
   "source": [
    "#Quantifying the model\n",
    "\n",
    "model_loss, model_accuracy = model.evaluate(\n",
    "    X_test_scaled, y_test_categorical, verbose=2)\n",
    "print(\n",
    "    f\"Normal Neural Network - Loss: {model_loss}, Accuracy: {model_accuracy}\")"
   ]
  },
  {
   "cell_type": "code",
   "execution_count": 174,
   "metadata": {},
   "outputs": [],
   "source": [
    "#Make some predictions\n",
    "encoded_predictions = model.predict_classes(X_test_scaled[:5])\n",
    "prediction_labels = label_encoder.inverse_transform(encoded_predictions)"
   ]
  },
  {
   "cell_type": "code",
   "execution_count": 175,
   "metadata": {},
   "outputs": [
    {
     "name": "stdout",
     "output_type": "stream",
     "text": [
      "Predicted classes: ['negative' 'negative' 'negative' 'negative' 'negative']\n",
      "Actual Labels: ['negative', 'negative', 'negative', 'negative', 'negative']\n"
     ]
    }
   ],
   "source": [
    "print(f\"Predicted classes: {prediction_labels}\")\n",
    "print(f\"Actual Labels: {list(y_test[:5])}\")"
   ]
  },
  {
   "cell_type": "code",
   "execution_count": 145,
   "metadata": {},
   "outputs": [
    {
     "name": "stdout",
     "output_type": "stream",
     "text": [
      "INFO:tensorflow:Assets written to: tensorflow_model.pkl/assets\n"
     ]
    }
   ],
   "source": [
    "#Save model\n",
    "model.save('tensorflow_model.pkl')"
   ]
  },
  {
   "cell_type": "code",
   "execution_count": 154,
   "metadata": {},
   "outputs": [],
   "source": [
    "#import model and make prediction\n",
    "import tensorflow as tf"
   ]
  },
  {
   "cell_type": "code",
   "execution_count": 155,
   "metadata": {},
   "outputs": [],
   "source": [
    "model_tensor = tf.keras.models.load_model(\"tensorflow_model.pkl\")"
   ]
  },
  {
   "cell_type": "code",
   "execution_count": 193,
   "metadata": {},
   "outputs": [],
   "source": [
    "prediction=model_tensor.predict_classes([[ 19, -1.288428, -0.906829, 0.567652, 0.694287, -0.835508, 0.578024, 0.541564, -0.295726, -0.325903]])"
   ]
  },
  {
   "cell_type": "code",
   "execution_count": 194,
   "metadata": {},
   "outputs": [
    {
     "name": "stdout",
     "output_type": "stream",
     "text": [
      "[0]\n"
     ]
    }
   ],
   "source": [
    "print(prediction)"
   ]
  },
  {
   "cell_type": "code",
   "execution_count": 195,
   "metadata": {
    "scrolled": true
   },
   "outputs": [
    {
     "name": "stdout",
     "output_type": "stream",
     "text": [
      "[0]\n"
     ]
    }
   ],
   "source": [
    "print(model_tensor.predict_classes([[ 19, -1.288428, -0.906829, 0.567652, 0.694287, -0.835508, 0.578024, 0.541564, -0.295726, -0.325903]]))"
   ]
  },
  {
   "cell_type": "code",
   "execution_count": null,
   "metadata": {},
   "outputs": [],
   "source": []
  },
  {
   "cell_type": "code",
   "execution_count": null,
   "metadata": {},
   "outputs": [],
   "source": []
  }
 ],
 "metadata": {
  "kernelspec": {
   "display_name": "Python 3",
   "language": "python",
   "name": "python3"
  },
  "language_info": {
   "codemirror_mode": {
    "name": "ipython",
    "version": 3
   },
   "file_extension": ".py",
   "mimetype": "text/x-python",
   "name": "python",
   "nbconvert_exporter": "python",
   "pygments_lexer": "ipython3",
   "version": "3.6.10"
  }
 },
 "nbformat": 4,
 "nbformat_minor": 2
}
