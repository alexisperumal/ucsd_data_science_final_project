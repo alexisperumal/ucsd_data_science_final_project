{
 "cells": [
  {
   "cell_type": "markdown",
   "metadata": {},
   "source": [
    "# Interesting columns to choose."
   ]
  },
  {
   "cell_type": "markdown",
   "metadata": {},
   "source": [
    "Research Article: https://www.techscience.com/cmc/v63n1/38464"
   ]
  },
  {
   "cell_type": "code",
   "execution_count": 1,
   "metadata": {},
   "outputs": [
    {
     "data": {
      "text/html": [
       "<div>\n",
       "<style scoped>\n",
       "    .dataframe tbody tr th:only-of-type {\n",
       "        vertical-align: middle;\n",
       "    }\n",
       "\n",
       "    .dataframe tbody tr th {\n",
       "        vertical-align: top;\n",
       "    }\n",
       "\n",
       "    .dataframe thead th {\n",
       "        text-align: right;\n",
       "    }\n",
       "</style>\n",
       "<table border=\"1\" class=\"dataframe\">\n",
       "  <thead>\n",
       "    <tr style=\"text-align: right;\">\n",
       "      <th></th>\n",
       "      <th>Count</th>\n",
       "    </tr>\n",
       "  </thead>\n",
       "  <tbody>\n",
       "    <tr>\n",
       "      <th>Nrows</th>\n",
       "      <td>5644</td>\n",
       "    </tr>\n",
       "    <tr>\n",
       "      <th>Ncols</th>\n",
       "      <td>111</td>\n",
       "    </tr>\n",
       "  </tbody>\n",
       "</table>\n",
       "</div>"
      ],
      "text/plain": [
       "       Count\n",
       "Nrows   5644\n",
       "Ncols    111"
      ]
     },
     "execution_count": 1,
     "metadata": {},
     "output_type": "execute_result"
    }
   ],
   "source": [
    "import pandas as pd\n",
    "\n",
    "df = pd.read_csv('../arun/Resources/diagnosis-of-covid-19-and-its-clinical-spectrum.csv')\n",
    "cols = [\n",
    "    'patient_age_quantile',\n",
    "    'hematocrit',\n",
    "    'hemoglobin',\n",
    "    'platelets',\n",
    "    'mean_platelet_volume',\n",
    "    'red_blood_cells',\n",
    "    'sars_cov_2_exam_result'\n",
    "]\n",
    "rowcol = ['Nrows', 'Ncols']\n",
    "pd.DataFrame(df.shape, index=rowcol, columns=['Count'])"
   ]
  },
  {
   "cell_type": "markdown",
   "metadata": {},
   "source": [
    "# Separate x and y parameters."
   ]
  },
  {
   "cell_type": "code",
   "execution_count": 2,
   "metadata": {},
   "outputs": [
    {
     "data": {
      "text/html": [
       "<div>\n",
       "<style scoped>\n",
       "    .dataframe tbody tr th:only-of-type {\n",
       "        vertical-align: middle;\n",
       "    }\n",
       "\n",
       "    .dataframe tbody tr th {\n",
       "        vertical-align: top;\n",
       "    }\n",
       "\n",
       "    .dataframe thead th {\n",
       "        text-align: right;\n",
       "    }\n",
       "</style>\n",
       "<table border=\"1\" class=\"dataframe\">\n",
       "  <thead>\n",
       "    <tr style=\"text-align: right;\">\n",
       "      <th></th>\n",
       "      <th>Nrows</th>\n",
       "      <th>Ncols</th>\n",
       "    </tr>\n",
       "  </thead>\n",
       "  <tbody>\n",
       "    <tr>\n",
       "      <th>X</th>\n",
       "      <td>599</td>\n",
       "      <td>6</td>\n",
       "    </tr>\n",
       "    <tr>\n",
       "      <th>y</th>\n",
       "      <td>599</td>\n",
       "      <td>1</td>\n",
       "    </tr>\n",
       "  </tbody>\n",
       "</table>\n",
       "</div>"
      ],
      "text/plain": [
       "   Nrows  Ncols\n",
       "X    599      6\n",
       "y    599      1"
      ]
     },
     "execution_count": 2,
     "metadata": {},
     "output_type": "execute_result"
    }
   ],
   "source": [
    "df = df[cols].dropna()\n",
    "category = [0 if result == 'negative' else 1 for result in df['sars_cov_2_exam_result']]\n",
    "df['sars_cov_2_exam_result'] = category\n",
    "X = df.drop('sars_cov_2_exam_result', axis=1)\n",
    "y = df['sars_cov_2_exam_result'].values.reshape(-1, 1)\n",
    "pd.DataFrame((X.shape, y.shape), index=['X', 'y'], columns=rowcol)"
   ]
  },
  {
   "cell_type": "markdown",
   "metadata": {},
   "source": [
    "# Rescale data."
   ]
  },
  {
   "cell_type": "code",
   "execution_count": 3,
   "metadata": {},
   "outputs": [],
   "source": [
    "from sklearn.preprocessing import StandardScaler\n",
    "from sklearn.model_selection import train_test_split\n",
    "\n",
    "X_train, X_test, y_train, y_test = train_test_split(X, y, random_state=42)"
   ]
  },
  {
   "cell_type": "markdown",
   "metadata": {},
   "source": [
    "# Compare with other models."
   ]
  },
  {
   "cell_type": "code",
   "execution_count": 4,
   "metadata": {},
   "outputs": [
    {
     "data": {
      "text/html": [
       "<div>\n",
       "<style scoped>\n",
       "    .dataframe tbody tr th:only-of-type {\n",
       "        vertical-align: middle;\n",
       "    }\n",
       "\n",
       "    .dataframe tbody tr th {\n",
       "        vertical-align: top;\n",
       "    }\n",
       "\n",
       "    .dataframe thead th {\n",
       "        text-align: right;\n",
       "    }\n",
       "</style>\n",
       "<table border=\"1\" class=\"dataframe\">\n",
       "  <thead>\n",
       "    <tr style=\"text-align: right;\">\n",
       "      <th></th>\n",
       "      <th>Root Mean Square</th>\n",
       "      <th>R-squared</th>\n",
       "    </tr>\n",
       "  </thead>\n",
       "  <tbody>\n",
       "    <tr>\n",
       "      <th>Linear Regression</th>\n",
       "      <td>0.105715</td>\n",
       "      <td>0.0851619</td>\n",
       "    </tr>\n",
       "    <tr>\n",
       "      <th>Lasso</th>\n",
       "      <td>0.105409</td>\n",
       "      <td>0.0878036</td>\n",
       "    </tr>\n",
       "    <tr>\n",
       "      <th>Ridge</th>\n",
       "      <td>0.105714</td>\n",
       "      <td>0.0851713</td>\n",
       "    </tr>\n",
       "    <tr>\n",
       "      <th>Elastic Net</th>\n",
       "      <td>0.105162</td>\n",
       "      <td>0.0899473</td>\n",
       "    </tr>\n",
       "  </tbody>\n",
       "</table>\n",
       "</div>"
      ],
      "text/plain": [
       "                  Root Mean Square  R-squared\n",
       "Linear Regression         0.105715  0.0851619\n",
       "Lasso                     0.105409  0.0878036\n",
       "Ridge                     0.105714  0.0851713\n",
       "Elastic Net               0.105162  0.0899473"
      ]
     },
     "execution_count": 4,
     "metadata": {},
     "output_type": "execute_result"
    }
   ],
   "source": [
    "from sklearn.metrics import mean_squared_error\n",
    "from sklearn.linear_model import LinearRegression\n",
    "from sklearn.linear_model import Lasso\n",
    "from sklearn.linear_model import Ridge\n",
    "from sklearn.linear_model import ElasticNet\n",
    "import numpy as np\n",
    "\n",
    "names = ['Linear Regression', 'Lasso', 'Ridge', 'Elastic Net']\n",
    "com_df = pd.DataFrame(index=names, columns=['Root Mean Square', 'R-squared'])\n",
    "\n",
    "models = [LinearRegression(), Lasso(alpha=0.01), Ridge(alpha=.01), ElasticNet(alpha=.01)]\n",
    "for mod, name in zip(models, names):\n",
    "    mod.fit(X_train, y_train)\n",
    "    predictions = mod.predict(X_test)\n",
    "    MSE = mean_squared_error(y_test, predictions)\n",
    "    r2 = mod.score(X_test, y_test)\n",
    "    com_df.loc[name] = [MSE, r2]\n",
    "com_df"
   ]
  },
  {
   "cell_type": "markdown",
   "metadata": {},
   "source": [
    "# Classification"
   ]
  },
  {
   "cell_type": "code",
   "execution_count": 11,
   "metadata": {},
   "outputs": [
    {
     "name": "stdout",
     "output_type": "stream",
     "text": [
      "Size of training data: 449\n",
      "Size of testing data: 150\n",
      "Testing Data Score: 0.8733333333333333\n"
     ]
    }
   ],
   "source": [
    "from sklearn.linear_model import LogisticRegression\n",
    "\n",
    "classifier = LogisticRegression()\n",
    "classifier.fit(X_train, y_train.flatten())\n",
    "predictions = classifier.predict(X_test)\n",
    "\n",
    "print(f'Size of training data: {y_train.size}')\n",
    "print(f'Size of testing data: {y_test.size}')\n",
    "print(f\"Testing Data Score: {classifier.score(X_test, y_test)}\")"
   ]
  },
  {
   "cell_type": "code",
   "execution_count": 7,
   "metadata": {},
   "outputs": [
    {
     "data": {
      "text/plain": [
       "TN    130\n",
       "FN     19\n",
       "TP      1\n",
       "Name: Category, dtype: int64"
      ]
     },
     "execution_count": 7,
     "metadata": {},
     "output_type": "execute_result"
    }
   ],
   "source": [
    "results = pd.DataFrame({\n",
    "    \"Actual\": y_test.flatten(),\n",
    "    \"Prediction\": predictions,\n",
    "    'Category': np.zeros_like(predictions)\n",
    "})\n",
    "\n",
    "results = results.replace(0, 'N')\n",
    "results = results.replace(1, 'P')\n",
    "\n",
    "for index, row in results.iterrows():\n",
    "    if (row['Actual'] == 'N') and (row['Prediction'] == 'N'):\n",
    "        cat = 'TN'\n",
    "    if (row['Actual'] == 'P') and (row['Prediction'] == 'P'):\n",
    "        cat = 'TP'\n",
    "    if (row['Actual'] == 'N') and (row['Prediction'] == 'P'):\n",
    "        cat = 'FP'\n",
    "    if (row['Actual'] == 'P') and (row['Prediction'] == 'N'):\n",
    "        cat = 'FN'\n",
    "    results['Category'][index] = cat\n",
    "results['Category'].value_counts()"
   ]
  },
  {
   "cell_type": "code",
   "execution_count": null,
   "metadata": {},
   "outputs": [],
   "source": []
  }
 ],
 "metadata": {
  "kernelspec": {
   "display_name": "Python 3",
   "language": "python",
   "name": "python3"
  },
  "language_info": {
   "codemirror_mode": {
    "name": "ipython",
    "version": 3
   },
   "file_extension": ".py",
   "mimetype": "text/x-python",
   "name": "python",
   "nbconvert_exporter": "python",
   "pygments_lexer": "ipython3",
   "version": "3.7.6"
  }
 },
 "nbformat": 4,
 "nbformat_minor": 4
}
