{
 "cells": [
  {
   "cell_type": "code",
   "execution_count": 50,
   "metadata": {},
   "outputs": [],
   "source": [
    "import numpy as np\n",
    "import matplotlib.pyplot as plt\n",
    "import pandas as pd"
   ]
  },
  {
   "cell_type": "code",
   "execution_count": 51,
   "metadata": {},
   "outputs": [
    {
     "data": {
      "text/html": [
       "<div>\n",
       "<style scoped>\n",
       "    .dataframe tbody tr th:only-of-type {\n",
       "        vertical-align: middle;\n",
       "    }\n",
       "\n",
       "    .dataframe tbody tr th {\n",
       "        vertical-align: top;\n",
       "    }\n",
       "\n",
       "    .dataframe thead th {\n",
       "        text-align: right;\n",
       "    }\n",
       "</style>\n",
       "<table border=\"1\" class=\"dataframe\">\n",
       "  <thead>\n",
       "    <tr style=\"text-align: right;\">\n",
       "      <th></th>\n",
       "      <th>patient_id</th>\n",
       "      <th>patient_age_quantile</th>\n",
       "      <th>sars_cov_2_exam_result</th>\n",
       "      <th>patient_addmited_to_regular_ward_1_yes_0_no</th>\n",
       "      <th>patient_addmited_to_semi_intensive_unit_1_yes_0_no</th>\n",
       "      <th>patient_addmited_to_intensive_care_unit_1_yes_0_no</th>\n",
       "      <th>hematocrit</th>\n",
       "      <th>hemoglobin</th>\n",
       "      <th>platelets</th>\n",
       "      <th>mean_platelet_volume</th>\n",
       "      <th>...</th>\n",
       "      <th>hb_saturation_arterial_blood_gases</th>\n",
       "      <th>pco2_arterial_blood_gas_analysis</th>\n",
       "      <th>base_excess_arterial_blood_gas_analysis</th>\n",
       "      <th>ph_arterial_blood_gas_analysis</th>\n",
       "      <th>total_co2_arterial_blood_gas_analysis</th>\n",
       "      <th>hco3_arterial_blood_gas_analysis</th>\n",
       "      <th>po2_arterial_blood_gas_analysis</th>\n",
       "      <th>arteiral_fio2</th>\n",
       "      <th>phosphor</th>\n",
       "      <th>cto2_arterial_blood_gas_analysis</th>\n",
       "    </tr>\n",
       "  </thead>\n",
       "  <tbody>\n",
       "    <tr>\n",
       "      <th>5639</th>\n",
       "      <td>ae66feb9e4dc3a0</td>\n",
       "      <td>3</td>\n",
       "      <td>positive</td>\n",
       "      <td>f</td>\n",
       "      <td>f</td>\n",
       "      <td>f</td>\n",
       "      <td>NaN</td>\n",
       "      <td>NaN</td>\n",
       "      <td>NaN</td>\n",
       "      <td>NaN</td>\n",
       "      <td>...</td>\n",
       "      <td>NaN</td>\n",
       "      <td>NaN</td>\n",
       "      <td>NaN</td>\n",
       "      <td>NaN</td>\n",
       "      <td>NaN</td>\n",
       "      <td>NaN</td>\n",
       "      <td>NaN</td>\n",
       "      <td>NaN</td>\n",
       "      <td>NaN</td>\n",
       "      <td>NaN</td>\n",
       "    </tr>\n",
       "    <tr>\n",
       "      <th>5640</th>\n",
       "      <td>517c2834024f3ea</td>\n",
       "      <td>17</td>\n",
       "      <td>negative</td>\n",
       "      <td>f</td>\n",
       "      <td>f</td>\n",
       "      <td>f</td>\n",
       "      <td>NaN</td>\n",
       "      <td>NaN</td>\n",
       "      <td>NaN</td>\n",
       "      <td>NaN</td>\n",
       "      <td>...</td>\n",
       "      <td>NaN</td>\n",
       "      <td>NaN</td>\n",
       "      <td>NaN</td>\n",
       "      <td>NaN</td>\n",
       "      <td>NaN</td>\n",
       "      <td>NaN</td>\n",
       "      <td>NaN</td>\n",
       "      <td>NaN</td>\n",
       "      <td>NaN</td>\n",
       "      <td>NaN</td>\n",
       "    </tr>\n",
       "    <tr>\n",
       "      <th>5641</th>\n",
       "      <td>5c57d6037fe266d</td>\n",
       "      <td>4</td>\n",
       "      <td>negative</td>\n",
       "      <td>f</td>\n",
       "      <td>f</td>\n",
       "      <td>f</td>\n",
       "      <td>NaN</td>\n",
       "      <td>NaN</td>\n",
       "      <td>NaN</td>\n",
       "      <td>NaN</td>\n",
       "      <td>...</td>\n",
       "      <td>NaN</td>\n",
       "      <td>NaN</td>\n",
       "      <td>NaN</td>\n",
       "      <td>NaN</td>\n",
       "      <td>NaN</td>\n",
       "      <td>NaN</td>\n",
       "      <td>NaN</td>\n",
       "      <td>NaN</td>\n",
       "      <td>NaN</td>\n",
       "      <td>NaN</td>\n",
       "    </tr>\n",
       "    <tr>\n",
       "      <th>5642</th>\n",
       "      <td>c20c44766f28291</td>\n",
       "      <td>10</td>\n",
       "      <td>negative</td>\n",
       "      <td>f</td>\n",
       "      <td>f</td>\n",
       "      <td>f</td>\n",
       "      <td>NaN</td>\n",
       "      <td>NaN</td>\n",
       "      <td>NaN</td>\n",
       "      <td>NaN</td>\n",
       "      <td>...</td>\n",
       "      <td>NaN</td>\n",
       "      <td>NaN</td>\n",
       "      <td>NaN</td>\n",
       "      <td>NaN</td>\n",
       "      <td>NaN</td>\n",
       "      <td>NaN</td>\n",
       "      <td>NaN</td>\n",
       "      <td>NaN</td>\n",
       "      <td>NaN</td>\n",
       "      <td>NaN</td>\n",
       "    </tr>\n",
       "    <tr>\n",
       "      <th>5643</th>\n",
       "      <td>2697fdccbfeb7f7</td>\n",
       "      <td>19</td>\n",
       "      <td>positive</td>\n",
       "      <td>f</td>\n",
       "      <td>f</td>\n",
       "      <td>f</td>\n",
       "      <td>0.694287</td>\n",
       "      <td>0.541564</td>\n",
       "      <td>-0.906829</td>\n",
       "      <td>-0.325903</td>\n",
       "      <td>...</td>\n",
       "      <td>NaN</td>\n",
       "      <td>NaN</td>\n",
       "      <td>NaN</td>\n",
       "      <td>NaN</td>\n",
       "      <td>NaN</td>\n",
       "      <td>NaN</td>\n",
       "      <td>NaN</td>\n",
       "      <td>NaN</td>\n",
       "      <td>NaN</td>\n",
       "      <td>NaN</td>\n",
       "    </tr>\n",
       "  </tbody>\n",
       "</table>\n",
       "<p>5 rows × 111 columns</p>\n",
       "</div>"
      ],
      "text/plain": [
       "           patient_id  patient_age_quantile sars_cov_2_exam_result  \\\n",
       "5639  ae66feb9e4dc3a0                     3               positive   \n",
       "5640  517c2834024f3ea                    17               negative   \n",
       "5641  5c57d6037fe266d                     4               negative   \n",
       "5642  c20c44766f28291                    10               negative   \n",
       "5643  2697fdccbfeb7f7                    19               positive   \n",
       "\n",
       "     patient_addmited_to_regular_ward_1_yes_0_no  \\\n",
       "5639                                           f   \n",
       "5640                                           f   \n",
       "5641                                           f   \n",
       "5642                                           f   \n",
       "5643                                           f   \n",
       "\n",
       "     patient_addmited_to_semi_intensive_unit_1_yes_0_no  \\\n",
       "5639                                                  f   \n",
       "5640                                                  f   \n",
       "5641                                                  f   \n",
       "5642                                                  f   \n",
       "5643                                                  f   \n",
       "\n",
       "     patient_addmited_to_intensive_care_unit_1_yes_0_no  hematocrit  \\\n",
       "5639                                                  f         NaN   \n",
       "5640                                                  f         NaN   \n",
       "5641                                                  f         NaN   \n",
       "5642                                                  f         NaN   \n",
       "5643                                                  f    0.694287   \n",
       "\n",
       "      hemoglobin  platelets  mean_platelet_volume  ...  \\\n",
       "5639         NaN        NaN                   NaN  ...   \n",
       "5640         NaN        NaN                   NaN  ...   \n",
       "5641         NaN        NaN                   NaN  ...   \n",
       "5642         NaN        NaN                   NaN  ...   \n",
       "5643    0.541564  -0.906829             -0.325903  ...   \n",
       "\n",
       "      hb_saturation_arterial_blood_gases  pco2_arterial_blood_gas_analysis  \\\n",
       "5639                                 NaN                               NaN   \n",
       "5640                                 NaN                               NaN   \n",
       "5641                                 NaN                               NaN   \n",
       "5642                                 NaN                               NaN   \n",
       "5643                                 NaN                               NaN   \n",
       "\n",
       "      base_excess_arterial_blood_gas_analysis  ph_arterial_blood_gas_analysis  \\\n",
       "5639                                      NaN                             NaN   \n",
       "5640                                      NaN                             NaN   \n",
       "5641                                      NaN                             NaN   \n",
       "5642                                      NaN                             NaN   \n",
       "5643                                      NaN                             NaN   \n",
       "\n",
       "      total_co2_arterial_blood_gas_analysis  hco3_arterial_blood_gas_analysis  \\\n",
       "5639                                    NaN                               NaN   \n",
       "5640                                    NaN                               NaN   \n",
       "5641                                    NaN                               NaN   \n",
       "5642                                    NaN                               NaN   \n",
       "5643                                    NaN                               NaN   \n",
       "\n",
       "      po2_arterial_blood_gas_analysis  arteiral_fio2  phosphor  \\\n",
       "5639                              NaN            NaN       NaN   \n",
       "5640                              NaN            NaN       NaN   \n",
       "5641                              NaN            NaN       NaN   \n",
       "5642                              NaN            NaN       NaN   \n",
       "5643                              NaN            NaN       NaN   \n",
       "\n",
       "      cto2_arterial_blood_gas_analysis  \n",
       "5639                               NaN  \n",
       "5640                               NaN  \n",
       "5641                               NaN  \n",
       "5642                               NaN  \n",
       "5643                               NaN  \n",
       "\n",
       "[5 rows x 111 columns]"
      ]
     },
     "execution_count": 51,
     "metadata": {},
     "output_type": "execute_result"
    }
   ],
   "source": [
    "dataset = pd.read_csv('../Resources/diagnosis-of-covid-19-and-its-clinical-spectrum.csv')\n",
    "dataset.tail()"
   ]
  },
  {
   "cell_type": "code",
   "execution_count": 52,
   "metadata": {},
   "outputs": [
    {
     "data": {
      "text/html": [
       "<div>\n",
       "<style scoped>\n",
       "    .dataframe tbody tr th:only-of-type {\n",
       "        vertical-align: middle;\n",
       "    }\n",
       "\n",
       "    .dataframe tbody tr th {\n",
       "        vertical-align: top;\n",
       "    }\n",
       "\n",
       "    .dataframe thead th {\n",
       "        text-align: right;\n",
       "    }\n",
       "</style>\n",
       "<table border=\"1\" class=\"dataframe\">\n",
       "  <thead>\n",
       "    <tr style=\"text-align: right;\">\n",
       "      <th></th>\n",
       "      <th>patient_id</th>\n",
       "      <th>patient_age_quantile</th>\n",
       "      <th>sars_cov_2_exam_result</th>\n",
       "      <th>hematocrit</th>\n",
       "      <th>hemoglobin</th>\n",
       "      <th>platelets</th>\n",
       "      <th>mean_platelet_volume</th>\n",
       "      <th>red_blood_cells</th>\n",
       "      <th>lymphocytes</th>\n",
       "      <th>mean_corpuscular_hemoglobin_concentration_mchc</th>\n",
       "      <th>leukocytes</th>\n",
       "      <th>basophils</th>\n",
       "      <th>mean_corpuscular_hemoglobin_mch</th>\n",
       "      <th>eosinophils</th>\n",
       "      <th>mean_corpuscular_volume_mcv</th>\n",
       "      <th>monocytes</th>\n",
       "      <th>red_blood_cell_distribution_width_rdw</th>\n",
       "      <th>serum_glucose</th>\n",
       "    </tr>\n",
       "  </thead>\n",
       "  <tbody>\n",
       "    <tr>\n",
       "      <th>0</th>\n",
       "      <td>44477f75e8169d2</td>\n",
       "      <td>13</td>\n",
       "      <td>negative</td>\n",
       "      <td>NaN</td>\n",
       "      <td>NaN</td>\n",
       "      <td>NaN</td>\n",
       "      <td>NaN</td>\n",
       "      <td>NaN</td>\n",
       "      <td>NaN</td>\n",
       "      <td>NaN</td>\n",
       "      <td>NaN</td>\n",
       "      <td>NaN</td>\n",
       "      <td>NaN</td>\n",
       "      <td>NaN</td>\n",
       "      <td>NaN</td>\n",
       "      <td>NaN</td>\n",
       "      <td>NaN</td>\n",
       "      <td>NaN</td>\n",
       "    </tr>\n",
       "    <tr>\n",
       "      <th>1</th>\n",
       "      <td>126e9dd13932f68</td>\n",
       "      <td>17</td>\n",
       "      <td>negative</td>\n",
       "      <td>0.236515</td>\n",
       "      <td>-0.02234</td>\n",
       "      <td>-0.517413</td>\n",
       "      <td>0.010677</td>\n",
       "      <td>0.102004</td>\n",
       "      <td>0.318366</td>\n",
       "      <td>-0.95079</td>\n",
       "      <td>-0.09461</td>\n",
       "      <td>-0.223767</td>\n",
       "      <td>-0.292269</td>\n",
       "      <td>1.482158</td>\n",
       "      <td>0.166192</td>\n",
       "      <td>0.357547</td>\n",
       "      <td>-0.625073</td>\n",
       "      <td>-0.140648</td>\n",
       "    </tr>\n",
       "    <tr>\n",
       "      <th>2</th>\n",
       "      <td>a46b4402a0e5696</td>\n",
       "      <td>8</td>\n",
       "      <td>negative</td>\n",
       "      <td>NaN</td>\n",
       "      <td>NaN</td>\n",
       "      <td>NaN</td>\n",
       "      <td>NaN</td>\n",
       "      <td>NaN</td>\n",
       "      <td>NaN</td>\n",
       "      <td>NaN</td>\n",
       "      <td>NaN</td>\n",
       "      <td>NaN</td>\n",
       "      <td>NaN</td>\n",
       "      <td>NaN</td>\n",
       "      <td>NaN</td>\n",
       "      <td>NaN</td>\n",
       "      <td>NaN</td>\n",
       "      <td>NaN</td>\n",
       "    </tr>\n",
       "    <tr>\n",
       "      <th>3</th>\n",
       "      <td>f7d619a94f97c45</td>\n",
       "      <td>5</td>\n",
       "      <td>negative</td>\n",
       "      <td>NaN</td>\n",
       "      <td>NaN</td>\n",
       "      <td>NaN</td>\n",
       "      <td>NaN</td>\n",
       "      <td>NaN</td>\n",
       "      <td>NaN</td>\n",
       "      <td>NaN</td>\n",
       "      <td>NaN</td>\n",
       "      <td>NaN</td>\n",
       "      <td>NaN</td>\n",
       "      <td>NaN</td>\n",
       "      <td>NaN</td>\n",
       "      <td>NaN</td>\n",
       "      <td>NaN</td>\n",
       "      <td>NaN</td>\n",
       "    </tr>\n",
       "    <tr>\n",
       "      <th>4</th>\n",
       "      <td>d9e41465789c2b5</td>\n",
       "      <td>15</td>\n",
       "      <td>negative</td>\n",
       "      <td>NaN</td>\n",
       "      <td>NaN</td>\n",
       "      <td>NaN</td>\n",
       "      <td>NaN</td>\n",
       "      <td>NaN</td>\n",
       "      <td>NaN</td>\n",
       "      <td>NaN</td>\n",
       "      <td>NaN</td>\n",
       "      <td>NaN</td>\n",
       "      <td>NaN</td>\n",
       "      <td>NaN</td>\n",
       "      <td>NaN</td>\n",
       "      <td>NaN</td>\n",
       "      <td>NaN</td>\n",
       "      <td>NaN</td>\n",
       "    </tr>\n",
       "  </tbody>\n",
       "</table>\n",
       "</div>"
      ],
      "text/plain": [
       "        patient_id  patient_age_quantile sars_cov_2_exam_result  hematocrit  \\\n",
       "0  44477f75e8169d2                    13               negative         NaN   \n",
       "1  126e9dd13932f68                    17               negative    0.236515   \n",
       "2  a46b4402a0e5696                     8               negative         NaN   \n",
       "3  f7d619a94f97c45                     5               negative         NaN   \n",
       "4  d9e41465789c2b5                    15               negative         NaN   \n",
       "\n",
       "   hemoglobin  platelets  mean_platelet_volume  red_blood_cells  lymphocytes  \\\n",
       "0         NaN        NaN                   NaN              NaN          NaN   \n",
       "1    -0.02234  -0.517413              0.010677         0.102004     0.318366   \n",
       "2         NaN        NaN                   NaN              NaN          NaN   \n",
       "3         NaN        NaN                   NaN              NaN          NaN   \n",
       "4         NaN        NaN                   NaN              NaN          NaN   \n",
       "\n",
       "   mean_corpuscular_hemoglobin_concentration_mchc  leukocytes  basophils  \\\n",
       "0                                             NaN         NaN        NaN   \n",
       "1                                        -0.95079    -0.09461  -0.223767   \n",
       "2                                             NaN         NaN        NaN   \n",
       "3                                             NaN         NaN        NaN   \n",
       "4                                             NaN         NaN        NaN   \n",
       "\n",
       "   mean_corpuscular_hemoglobin_mch  eosinophils  mean_corpuscular_volume_mcv  \\\n",
       "0                              NaN          NaN                          NaN   \n",
       "1                        -0.292269     1.482158                     0.166192   \n",
       "2                              NaN          NaN                          NaN   \n",
       "3                              NaN          NaN                          NaN   \n",
       "4                              NaN          NaN                          NaN   \n",
       "\n",
       "   monocytes  red_blood_cell_distribution_width_rdw  serum_glucose  \n",
       "0        NaN                                    NaN            NaN  \n",
       "1   0.357547                              -0.625073      -0.140648  \n",
       "2        NaN                                    NaN            NaN  \n",
       "3        NaN                                    NaN            NaN  \n",
       "4        NaN                                    NaN            NaN  "
      ]
     },
     "execution_count": 52,
     "metadata": {},
     "output_type": "execute_result"
    }
   ],
   "source": [
    "dataset_new = dataset[[\"patient_id\",\"patient_age_quantile\",\"sars_cov_2_exam_result\",\"hematocrit\",\"hemoglobin\",\"platelets\",\"mean_platelet_volume\",\"red_blood_cells\",\"lymphocytes\",\"mean_corpuscular_hemoglobin_concentration_mchc\",\"leukocytes\",\"basophils\",\"mean_corpuscular_hemoglobin_mch\",\"eosinophils\",\"mean_corpuscular_volume_mcv\",\"monocytes\",\"red_blood_cell_distribution_width_rdw\",\"serum_glucose\"]].copy()\n",
    "dataset_new.head()"
   ]
  },
  {
   "cell_type": "code",
   "execution_count": 53,
   "metadata": {},
   "outputs": [
    {
     "name": "stdout",
     "output_type": "stream",
     "text": [
      "5644\n"
     ]
    }
   ],
   "source": [
    "print(len(dataset_new.index))"
   ]
  },
  {
   "cell_type": "code",
   "execution_count": 54,
   "metadata": {},
   "outputs": [],
   "source": [
    "list_X = [\"patient_age_quantile\",\"hematocrit\",\"hemoglobin\",\"platelets\",\"mean_platelet_volume\",\"red_blood_cells\",\"lymphocytes\",\"mean_corpuscular_hemoglobin_concentration_mchc\",\"leukocytes\",\"basophils\",\"mean_corpuscular_hemoglobin_mch\",\"eosinophils\",\"mean_corpuscular_volume_mcv\",\"monocytes\",\"red_blood_cell_distribution_width_rdw\",\"serum_glucose\"]"
   ]
  },
  {
   "cell_type": "code",
   "execution_count": 55,
   "metadata": {},
   "outputs": [
    {
     "name": "stdout",
     "output_type": "stream",
     "text": [
      "[[13.                 nan         nan ...         nan         nan\n",
      "          nan]\n",
      " [17.          0.23651545 -0.02234027 ...  0.35754666 -0.62507266\n",
      "  -0.14064808]\n",
      " [ 8.                 nan         nan ...         nan         nan\n",
      "          nan]\n",
      " ...\n",
      " [ 4.                 nan         nan ...         nan         nan\n",
      "          nan]\n",
      " [10.                 nan         nan ...         nan         nan\n",
      "          nan]\n",
      " [19.          0.69428688  0.54156393 ...  0.5676524  -0.18279028\n",
      "          nan]]\n"
     ]
    }
   ],
   "source": [
    "X = dataset_new[list_X].values\n",
    "y = dataset_new[\"sars_cov_2_exam_result\"].values\n",
    "print(X)"
   ]
  },
  {
   "cell_type": "code",
   "execution_count": 56,
   "metadata": {},
   "outputs": [
    {
     "name": "stdout",
     "output_type": "stream",
     "text": [
      "['negative' 'negative' 'negative' ... 'negative' 'negative' 'positive']\n"
     ]
    }
   ],
   "source": [
    "print(y)"
   ]
  },
  {
   "cell_type": "code",
   "execution_count": 57,
   "metadata": {},
   "outputs": [
    {
     "name": "stdout",
     "output_type": "stream",
     "text": [
      "16\n"
     ]
    }
   ],
   "source": [
    "\n",
    "print(len(list_X))"
   ]
  },
  {
   "cell_type": "code",
   "execution_count": 58,
   "metadata": {},
   "outputs": [],
   "source": [
    "#taking care of missing data\n",
    "from sklearn.impute import SimpleImputer\n",
    "imputer = SimpleImputer(missing_values=np.nan, strategy='mean')\n",
    "imputer.fit(X[:, 1:len(list_X)])\n",
    "X[:, 1:len(list_X)] = imputer.transform(X[:, 1:len(list_X)])"
   ]
  },
  {
   "cell_type": "code",
   "execution_count": 59,
   "metadata": {},
   "outputs": [
    {
     "name": "stdout",
     "output_type": "stream",
     "text": [
      "[[ 1.30000000e+01 -2.18621415e-09 -1.60131883e-08 ... -3.22011376e-09\n",
      "   1.02043253e-08  7.06999220e-09]\n",
      " [ 1.70000000e+01  2.36515447e-01 -2.23402679e-02 ...  3.57546657e-01\n",
      "  -6.25072658e-01 -1.40648082e-01]\n",
      " [ 8.00000000e+00 -2.18621415e-09 -1.60131883e-08 ... -3.22011376e-09\n",
      "   1.02043253e-08  7.06999220e-09]\n",
      " ...\n",
      " [ 4.00000000e+00 -2.18621415e-09 -1.60131883e-08 ... -3.22011376e-09\n",
      "   1.02043253e-08  7.06999220e-09]\n",
      " [ 1.00000000e+01 -2.18621415e-09 -1.60131883e-08 ... -3.22011376e-09\n",
      "   1.02043253e-08  7.06999220e-09]\n",
      " [ 1.90000000e+01  6.94286883e-01  5.41563928e-01 ...  5.67652404e-01\n",
      "  -1.82790279e-01  7.06999220e-09]]\n"
     ]
    }
   ],
   "source": [
    "print(X)"
   ]
  },
  {
   "cell_type": "code",
   "execution_count": 60,
   "metadata": {},
   "outputs": [
    {
     "name": "stdout",
     "output_type": "stream",
     "text": [
      "[0 0 0 ... 0 0 1]\n"
     ]
    }
   ],
   "source": [
    "#encoding variable\n",
    "from sklearn.preprocessing import LabelEncoder\n",
    "le = LabelEncoder()\n",
    "y = le.fit_transform(y)\n",
    "print(y)"
   ]
  },
  {
   "cell_type": "code",
   "execution_count": 61,
   "metadata": {},
   "outputs": [],
   "source": [
    "# split data into training and testing\n",
    "from sklearn.model_selection import train_test_split\n",
    "\n",
    "X_train, X_test, y_train, y_test = train_test_split(X, y, test_size= 0.33, random_state=42)"
   ]
  },
  {
   "cell_type": "code",
   "execution_count": 62,
   "metadata": {},
   "outputs": [],
   "source": [
    "#Scale the data using the MinMaxScaler\n",
    "from sklearn.preprocessing import StandardScaler\n",
    "X_scaler = StandardScaler().fit(X_train)"
   ]
  },
  {
   "cell_type": "code",
   "execution_count": 63,
   "metadata": {},
   "outputs": [],
   "source": [
    "X_train_scaled = X_scaler.transform(X_train)\n",
    "X_test_scaled = X_scaler.transform(X_test)"
   ]
  },
  {
   "cell_type": "code",
   "execution_count": 64,
   "metadata": {},
   "outputs": [
    {
     "data": {
      "text/plain": [
       "RandomForestClassifier(bootstrap=True, ccp_alpha=0.0, class_weight=None,\n",
       "                       criterion='gini', max_depth=None, max_features='auto',\n",
       "                       max_leaf_nodes=None, max_samples=None,\n",
       "                       min_impurity_decrease=0.0, min_impurity_split=None,\n",
       "                       min_samples_leaf=1, min_samples_split=2,\n",
       "                       min_weight_fraction_leaf=0.0, n_estimators=200,\n",
       "                       n_jobs=None, oob_score=False, random_state=None,\n",
       "                       verbose=0, warm_start=False)"
      ]
     },
     "execution_count": 64,
     "metadata": {},
     "output_type": "execute_result"
    }
   ],
   "source": [
    "from sklearn.ensemble import RandomForestClassifier\n",
    "model = RandomForestClassifier(n_estimators = 200)\n",
    "model.fit(X_train_scaled, y_train)"
   ]
  },
  {
   "cell_type": "code",
   "execution_count": 65,
   "metadata": {},
   "outputs": [
    {
     "name": "stdout",
     "output_type": "stream",
     "text": [
      "Training Data Score: 0.9129859825443004\n",
      "Testing Data Score: 0.90552871712292\n"
     ]
    }
   ],
   "source": [
    "print(f\"Training Data Score: {model.score(X_train_scaled, y_train)}\")\n",
    "print(f\"Testing Data Score: {model.score(X_test_scaled, y_test)}\")"
   ]
  },
  {
   "cell_type": "code",
   "execution_count": 66,
   "metadata": {},
   "outputs": [
    {
     "name": "stdout",
     "output_type": "stream",
     "text": [
      "MSE: 0.09447128287707998, R2: 0.90552871712292\n"
     ]
    }
   ],
   "source": [
    "from sklearn.metrics import mean_squared_error\n",
    "\n",
    "predictions = model.predict(X_test_scaled)\n",
    "MSE = mean_squared_error(y_test, predictions)\n",
    "r2 = model.score(X_test_scaled, y_test)\n",
    "\n",
    "print(f\"MSE: {MSE}, R2: {r2}\")"
   ]
  },
  {
   "cell_type": "code",
   "execution_count": 67,
   "metadata": {},
   "outputs": [
    {
     "data": {
      "text/html": [
       "<div>\n",
       "<style scoped>\n",
       "    .dataframe tbody tr th:only-of-type {\n",
       "        vertical-align: middle;\n",
       "    }\n",
       "\n",
       "    .dataframe tbody tr th {\n",
       "        vertical-align: top;\n",
       "    }\n",
       "\n",
       "    .dataframe thead th {\n",
       "        text-align: right;\n",
       "    }\n",
       "</style>\n",
       "<table border=\"1\" class=\"dataframe\">\n",
       "  <thead>\n",
       "    <tr style=\"text-align: right;\">\n",
       "      <th></th>\n",
       "      <th>Actual</th>\n",
       "      <th>Prediction</th>\n",
       "    </tr>\n",
       "  </thead>\n",
       "  <tbody>\n",
       "    <tr>\n",
       "      <th>0</th>\n",
       "      <td>0</td>\n",
       "      <td>0</td>\n",
       "    </tr>\n",
       "    <tr>\n",
       "      <th>1</th>\n",
       "      <td>0</td>\n",
       "      <td>0</td>\n",
       "    </tr>\n",
       "    <tr>\n",
       "      <th>2</th>\n",
       "      <td>0</td>\n",
       "      <td>0</td>\n",
       "    </tr>\n",
       "    <tr>\n",
       "      <th>3</th>\n",
       "      <td>0</td>\n",
       "      <td>0</td>\n",
       "    </tr>\n",
       "    <tr>\n",
       "      <th>4</th>\n",
       "      <td>0</td>\n",
       "      <td>0</td>\n",
       "    </tr>\n",
       "    <tr>\n",
       "      <th>...</th>\n",
       "      <td>...</td>\n",
       "      <td>...</td>\n",
       "    </tr>\n",
       "    <tr>\n",
       "      <th>95</th>\n",
       "      <td>1</td>\n",
       "      <td>0</td>\n",
       "    </tr>\n",
       "    <tr>\n",
       "      <th>96</th>\n",
       "      <td>0</td>\n",
       "      <td>0</td>\n",
       "    </tr>\n",
       "    <tr>\n",
       "      <th>97</th>\n",
       "      <td>0</td>\n",
       "      <td>0</td>\n",
       "    </tr>\n",
       "    <tr>\n",
       "      <th>98</th>\n",
       "      <td>0</td>\n",
       "      <td>0</td>\n",
       "    </tr>\n",
       "    <tr>\n",
       "      <th>99</th>\n",
       "      <td>0</td>\n",
       "      <td>0</td>\n",
       "    </tr>\n",
       "  </tbody>\n",
       "</table>\n",
       "<p>100 rows × 2 columns</p>\n",
       "</div>"
      ],
      "text/plain": [
       "    Actual  Prediction\n",
       "0        0           0\n",
       "1        0           0\n",
       "2        0           0\n",
       "3        0           0\n",
       "4        0           0\n",
       "..     ...         ...\n",
       "95       1           0\n",
       "96       0           0\n",
       "97       0           0\n",
       "98       0           0\n",
       "99       0           0\n",
       "\n",
       "[100 rows x 2 columns]"
      ]
     },
     "execution_count": 67,
     "metadata": {},
     "output_type": "execute_result"
    }
   ],
   "source": [
    "predictions = model.predict(X_test_scaled)\n",
    "\n",
    "prediction_actual = {\n",
    "    'Actual': y_test,\n",
    "    'Prediction': predictions\n",
    "}\n",
    "\n",
    "df = pd.DataFrame(prediction_actual)\n",
    "df = df.set_index('Actual').reset_index()\n",
    "df.head(100)"
   ]
  },
  {
   "cell_type": "code",
   "execution_count": 68,
   "metadata": {},
   "outputs": [
    {
     "name": "stdout",
     "output_type": "stream",
     "text": [
      "['patient_age_quantile', 'hematocrit', 'hemoglobin', 'platelets', 'mean_platelet_volume', 'red_blood_cells', 'lymphocytes', 'mean_corpuscular_hemoglobin_concentration_mchc', 'leukocytes', 'basophils', 'mean_corpuscular_hemoglobin_mch', 'eosinophils', 'mean_corpuscular_volume_mcv', 'monocytes', 'red_blood_cell_distribution_width_rdw', 'serum_glucose']\n"
     ]
    }
   ],
   "source": [
    "# list of all the X columns\n",
    "feature_names = list_X\n",
    "print(feature_names)"
   ]
  },
  {
   "cell_type": "code",
   "execution_count": 69,
   "metadata": {},
   "outputs": [
    {
     "data": {
      "text/html": [
       "<div>\n",
       "<style scoped>\n",
       "    .dataframe tbody tr th:only-of-type {\n",
       "        vertical-align: middle;\n",
       "    }\n",
       "\n",
       "    .dataframe tbody tr th {\n",
       "        vertical-align: top;\n",
       "    }\n",
       "\n",
       "    .dataframe thead th {\n",
       "        text-align: right;\n",
       "    }\n",
       "</style>\n",
       "<table border=\"1\" class=\"dataframe\">\n",
       "  <thead>\n",
       "    <tr style=\"text-align: right;\">\n",
       "      <th></th>\n",
       "      <th>Score</th>\n",
       "    </tr>\n",
       "    <tr>\n",
       "      <th>Feature</th>\n",
       "      <th></th>\n",
       "    </tr>\n",
       "  </thead>\n",
       "  <tbody>\n",
       "    <tr>\n",
       "      <th>patient_age_quantile</th>\n",
       "      <td>0.212447</td>\n",
       "    </tr>\n",
       "    <tr>\n",
       "      <th>leukocytes</th>\n",
       "      <td>0.144697</td>\n",
       "    </tr>\n",
       "    <tr>\n",
       "      <th>monocytes</th>\n",
       "      <td>0.085374</td>\n",
       "    </tr>\n",
       "    <tr>\n",
       "      <th>platelets</th>\n",
       "      <td>0.082856</td>\n",
       "    </tr>\n",
       "    <tr>\n",
       "      <th>eosinophils</th>\n",
       "      <td>0.055055</td>\n",
       "    </tr>\n",
       "    <tr>\n",
       "      <th>lymphocytes</th>\n",
       "      <td>0.049239</td>\n",
       "    </tr>\n",
       "    <tr>\n",
       "      <th>red_blood_cells</th>\n",
       "      <td>0.048816</td>\n",
       "    </tr>\n",
       "    <tr>\n",
       "      <th>hematocrit</th>\n",
       "      <td>0.048068</td>\n",
       "    </tr>\n",
       "    <tr>\n",
       "      <th>mean_platelet_volume</th>\n",
       "      <td>0.040829</td>\n",
       "    </tr>\n",
       "    <tr>\n",
       "      <th>hemoglobin</th>\n",
       "      <td>0.039043</td>\n",
       "    </tr>\n",
       "    <tr>\n",
       "      <th>red_blood_cell_distribution_width_rdw</th>\n",
       "      <td>0.036359</td>\n",
       "    </tr>\n",
       "    <tr>\n",
       "      <th>mean_corpuscular_hemoglobin_concentration_mchc</th>\n",
       "      <td>0.035755</td>\n",
       "    </tr>\n",
       "    <tr>\n",
       "      <th>mean_corpuscular_volume_mcv</th>\n",
       "      <td>0.034852</td>\n",
       "    </tr>\n",
       "    <tr>\n",
       "      <th>mean_corpuscular_hemoglobin_mch</th>\n",
       "      <td>0.033754</td>\n",
       "    </tr>\n",
       "    <tr>\n",
       "      <th>basophils</th>\n",
       "      <td>0.028064</td>\n",
       "    </tr>\n",
       "    <tr>\n",
       "      <th>serum_glucose</th>\n",
       "      <td>0.024792</td>\n",
       "    </tr>\n",
       "  </tbody>\n",
       "</table>\n",
       "</div>"
      ],
      "text/plain": [
       "                                                   Score\n",
       "Feature                                                 \n",
       "patient_age_quantile                            0.212447\n",
       "leukocytes                                      0.144697\n",
       "monocytes                                       0.085374\n",
       "platelets                                       0.082856\n",
       "eosinophils                                     0.055055\n",
       "lymphocytes                                     0.049239\n",
       "red_blood_cells                                 0.048816\n",
       "hematocrit                                      0.048068\n",
       "mean_platelet_volume                            0.040829\n",
       "hemoglobin                                      0.039043\n",
       "red_blood_cell_distribution_width_rdw           0.036359\n",
       "mean_corpuscular_hemoglobin_concentration_mchc  0.035755\n",
       "mean_corpuscular_volume_mcv                     0.034852\n",
       "mean_corpuscular_hemoglobin_mch                 0.033754\n",
       "basophils                                       0.028064\n",
       "serum_glucose                                   0.024792"
      ]
     },
     "execution_count": 69,
     "metadata": {},
     "output_type": "execute_result"
    }
   ],
   "source": [
    "# Determine which features should to be kept\n",
    "preSelected_features = sorted(zip(model.feature_importances_, feature_names), reverse=True)\n",
    "ranked_features = pd.DataFrame(preSelected_features, columns=['Score', 'Feature'])\n",
    "ranked_features = ranked_features.set_index('Feature')\n",
    "ranked_features"
   ]
  },
  {
   "cell_type": "code",
   "execution_count": 70,
   "metadata": {},
   "outputs": [
    {
     "name": "stdout",
     "output_type": "stream",
     "text": [
      "['patient_age_quantile', 'leukocytes', 'monocytes', 'platelets', 'eosinophils', 'lymphocytes', 'red_blood_cells', 'hematocrit', 'mean_platelet_volume', 'hemoglobin']\n"
     ]
    }
   ],
   "source": [
    "# Remove features with score < 0.039\n",
    "selected_features = []\n",
    "for tup in preSelected_features:\n",
    "    if tup[0] > 0.039:\n",
    "        selected_features.append(tup[1])\n",
    "print(selected_features)        "
   ]
  },
  {
   "cell_type": "code",
   "execution_count": 71,
   "metadata": {},
   "outputs": [],
   "source": [
    "with open(\"selected_features.txt\", \"w\") as output:\n",
    "    output.write(str(selected_features))"
   ]
  },
  {
   "cell_type": "code",
   "execution_count": 73,
   "metadata": {},
   "outputs": [],
   "source": [
    "# Use new data for all subsequent models\n",
    "# Assign new data to X \n",
    "\n",
    "X2 = dataset_new[selected_features].values\n",
    "\n",
    "imputer = SimpleImputer(missing_values=np.nan, strategy='mean')\n",
    "imputer.fit(X2[:, 1:len(selected_features)])\n",
    "X2[:, 1:len(selected_features)] = imputer.transform(X2[:, 1:len(selected_features)])\n",
    "#print(X2)\n",
    "# split data into training and testing\n",
    "X2_train, X2_test, y_train, y_test = train_test_split(X2, y, test_size= 0.33, random_state=42)\n",
    "X2_scaler = StandardScaler().fit(X2_train)\n",
    "X2_train_scaled = X2_scaler.transform(X2_train)\n",
    "X2_test_scaled = X2_scaler.transform(X2_test)\n",
    "#print(X2_train_scaled)\n",
    "#print(X2_test_scaled)"
   ]
  },
  {
   "cell_type": "code",
   "execution_count": 74,
   "metadata": {},
   "outputs": [
    {
     "data": {
      "text/plain": [
       "RandomForestClassifier(bootstrap=True, ccp_alpha=0.0, class_weight=None,\n",
       "                       criterion='gini', max_depth=None, max_features='auto',\n",
       "                       max_leaf_nodes=None, max_samples=None,\n",
       "                       min_impurity_decrease=0.0, min_impurity_split=None,\n",
       "                       min_samples_leaf=1, min_samples_split=2,\n",
       "                       min_weight_fraction_leaf=0.0, n_estimators=200,\n",
       "                       n_jobs=None, oob_score=False, random_state=None,\n",
       "                       verbose=0, warm_start=False)"
      ]
     },
     "execution_count": 74,
     "metadata": {},
     "output_type": "execute_result"
    }
   ],
   "source": [
    "# Train new model\n",
    "model2 = RandomForestClassifier(n_estimators=200)\n",
    "model2.fit(X2_train_scaled, y_train)"
   ]
  },
  {
   "cell_type": "code",
   "execution_count": 75,
   "metadata": {},
   "outputs": [
    {
     "name": "stdout",
     "output_type": "stream",
     "text": [
      "Training Data Score: 0.9129859825443004\n",
      "Testing Data Score: 0.90552871712292\n"
     ]
    }
   ],
   "source": [
    "print(f\"Training Data Score: {model2.score(X2_train_scaled, y_train)}\")\n",
    "print(f\"Testing Data Score: {model2.score(X2_test_scaled, y_test)}\")"
   ]
  },
  {
   "cell_type": "code",
   "execution_count": 76,
   "metadata": {},
   "outputs": [
    {
     "name": "stdout",
     "output_type": "stream",
     "text": [
      "MSE: 0.09447128287707998, R2: 0.90552871712292\n"
     ]
    }
   ],
   "source": [
    "predictions_1 = model2.predict(X2_test_scaled)\n",
    "MSE_1 = mean_squared_error(y_test, predictions_1)\n",
    "r2_1 = model2.score(X2_test_scaled, y_test)\n",
    "\n",
    "print(f\"MSE: {MSE_1}, R2: {r2_1}\")"
   ]
  },
  {
   "cell_type": "code",
   "execution_count": 77,
   "metadata": {},
   "outputs": [
    {
     "name": "stdout",
     "output_type": "stream",
     "text": [
      "Fitting 5 folds for each of 72 candidates, totalling 360 fits\n"
     ]
    },
    {
     "name": "stderr",
     "output_type": "stream",
     "text": [
      "[Parallel(n_jobs=-1)]: Using backend LokyBackend with 8 concurrent workers.\n",
      "[Parallel(n_jobs=-1)]: Done  16 tasks      | elapsed:    9.6s\n",
      "[Parallel(n_jobs=-1)]: Done 112 tasks      | elapsed:   58.6s\n",
      "[Parallel(n_jobs=-1)]: Done 272 tasks      | elapsed:  2.3min\n",
      "[Parallel(n_jobs=-1)]: Done 360 out of 360 | elapsed:  3.1min finished\n"
     ]
    },
    {
     "data": {
      "text/plain": [
       "GridSearchCV(cv=5, error_score=nan,\n",
       "             estimator=RandomForestClassifier(bootstrap=True, ccp_alpha=0.0,\n",
       "                                              class_weight=None,\n",
       "                                              criterion='gini', max_depth=None,\n",
       "                                              max_features='auto',\n",
       "                                              max_leaf_nodes=None,\n",
       "                                              max_samples=None,\n",
       "                                              min_impurity_decrease=0.0,\n",
       "                                              min_impurity_split=None,\n",
       "                                              min_samples_leaf=1,\n",
       "                                              min_samples_split=2,\n",
       "                                              min_weight_fraction_leaf=0.0,\n",
       "                                              n_estimators=100, n_jobs=None,\n",
       "                                              oob_score=False, random_state=42,\n",
       "                                              verbose=0, warm_start=False),\n",
       "             iid='deprecated', n_jobs=-1,\n",
       "             param_grid={'max_depth': [14, 15, 16, 17, 18, None],\n",
       "                         'max_features': ['auto', 'sqrt', 'log2'],\n",
       "                         'n_estimators': [200, 600, 1200, 1400]},\n",
       "             pre_dispatch='2*n_jobs', refit=True, return_train_score=False,\n",
       "             scoring=None, verbose=3)"
      ]
     },
     "execution_count": 77,
     "metadata": {},
     "output_type": "execute_result"
    }
   ],
   "source": [
    "# Create the RandomSearchCV model\n",
    "from sklearn.model_selection import GridSearchCV\n",
    "model3 = RandomForestClassifier(random_state=42)\n",
    "\n",
    "param_grid = {\n",
    "    'n_estimators': [200, 600, 1200, 1400],\n",
    "    'max_features': ['auto', 'sqrt', 'log2'],\n",
    "    'max_depth': [14, 15, 16, 17, 18, None]\n",
    "}\n",
    "grid = GridSearchCV(model3, param_grid, cv=5, verbose=3, n_jobs=-1)\n",
    "\n",
    "# Train the model with GridSearch\n",
    "grid.fit(X2_train_scaled, y_train)"
   ]
  },
  {
   "cell_type": "code",
   "execution_count": 78,
   "metadata": {},
   "outputs": [
    {
     "name": "stdout",
     "output_type": "stream",
     "text": [
      "{'max_depth': 14, 'max_features': 'auto', 'n_estimators': 200}\n",
      "0.9000265598680395\n"
     ]
    }
   ],
   "source": [
    "print(grid.best_params_)\n",
    "print(grid.best_score_)"
   ]
  },
  {
   "cell_type": "code",
   "execution_count": 79,
   "metadata": {},
   "outputs": [
    {
     "name": "stdout",
     "output_type": "stream",
     "text": [
      "Training Data Score: 91.299 %\n",
      "Testing Data Score: 90.499 %\n"
     ]
    }
   ],
   "source": [
    "# Tuned parameters\n",
    "max_features = grid.best_params_['max_features']\n",
    "n_estimators = grid.best_params_['n_estimators']\n",
    "max_depth = grid.best_params_['max_depth']\n",
    "criterion = 'entropy'\n",
    "\n",
    "# Tuned model\n",
    "tuned_model = RandomForestClassifier(max_features=max_features, n_estimators=n_estimators, \n",
    "                                     criterion=criterion, max_depth=max_depth, random_state=42)\n",
    "tuned_model.fit(X2_train_scaled, y_train)\n",
    "model_3_training_score = round(tuned_model.score(X2_train_scaled, y_train)*100,3)\n",
    "tuned_accuracy = round(tuned_model.score(X2_test_scaled, y_test)*100,3)\n",
    "\n",
    "print(f\"Training Data Score: {model_3_training_score} %\")\n",
    "print(f\"Testing Data Score: {tuned_accuracy} %\")"
   ]
  },
  {
   "cell_type": "code",
   "execution_count": 80,
   "metadata": {},
   "outputs": [
    {
     "data": {
      "text/html": [
       "<div>\n",
       "<style scoped>\n",
       "    .dataframe tbody tr th:only-of-type {\n",
       "        vertical-align: middle;\n",
       "    }\n",
       "\n",
       "    .dataframe tbody tr th {\n",
       "        vertical-align: top;\n",
       "    }\n",
       "\n",
       "    .dataframe thead th {\n",
       "        text-align: right;\n",
       "    }\n",
       "</style>\n",
       "<table border=\"1\" class=\"dataframe\">\n",
       "  <thead>\n",
       "    <tr style=\"text-align: right;\">\n",
       "      <th></th>\n",
       "      <th>Actual</th>\n",
       "      <th>Prediction</th>\n",
       "    </tr>\n",
       "  </thead>\n",
       "  <tbody>\n",
       "    <tr>\n",
       "      <th>0</th>\n",
       "      <td>0</td>\n",
       "      <td>0</td>\n",
       "    </tr>\n",
       "    <tr>\n",
       "      <th>1</th>\n",
       "      <td>0</td>\n",
       "      <td>0</td>\n",
       "    </tr>\n",
       "    <tr>\n",
       "      <th>2</th>\n",
       "      <td>0</td>\n",
       "      <td>0</td>\n",
       "    </tr>\n",
       "    <tr>\n",
       "      <th>3</th>\n",
       "      <td>0</td>\n",
       "      <td>0</td>\n",
       "    </tr>\n",
       "    <tr>\n",
       "      <th>4</th>\n",
       "      <td>0</td>\n",
       "      <td>0</td>\n",
       "    </tr>\n",
       "    <tr>\n",
       "      <th>...</th>\n",
       "      <td>...</td>\n",
       "      <td>...</td>\n",
       "    </tr>\n",
       "    <tr>\n",
       "      <th>95</th>\n",
       "      <td>1</td>\n",
       "      <td>0</td>\n",
       "    </tr>\n",
       "    <tr>\n",
       "      <th>96</th>\n",
       "      <td>0</td>\n",
       "      <td>0</td>\n",
       "    </tr>\n",
       "    <tr>\n",
       "      <th>97</th>\n",
       "      <td>0</td>\n",
       "      <td>0</td>\n",
       "    </tr>\n",
       "    <tr>\n",
       "      <th>98</th>\n",
       "      <td>0</td>\n",
       "      <td>0</td>\n",
       "    </tr>\n",
       "    <tr>\n",
       "      <th>99</th>\n",
       "      <td>0</td>\n",
       "      <td>0</td>\n",
       "    </tr>\n",
       "  </tbody>\n",
       "</table>\n",
       "<p>100 rows × 2 columns</p>\n",
       "</div>"
      ],
      "text/plain": [
       "    Actual  Prediction\n",
       "0        0           0\n",
       "1        0           0\n",
       "2        0           0\n",
       "3        0           0\n",
       "4        0           0\n",
       "..     ...         ...\n",
       "95       1           0\n",
       "96       0           0\n",
       "97       0           0\n",
       "98       0           0\n",
       "99       0           0\n",
       "\n",
       "[100 rows x 2 columns]"
      ]
     },
     "execution_count": 80,
     "metadata": {},
     "output_type": "execute_result"
    }
   ],
   "source": [
    "predictions_2 = tuned_model.predict(X2_test_scaled)\n",
    "\n",
    "prediction_actual_2 = {\n",
    "    'Actual': y_test,\n",
    "    'Prediction': predictions_2\n",
    "}\n",
    "\n",
    "df2 = pd.DataFrame(prediction_actual_2)\n",
    "df2 = df2.set_index('Actual').reset_index()\n",
    "df2.head(100)"
   ]
  },
  {
   "cell_type": "code",
   "execution_count": 81,
   "metadata": {},
   "outputs": [],
   "source": [
    "from sklearn.metrics import confusion_matrix \n",
    "from sklearn.metrics import accuracy_score \n",
    "from sklearn.metrics import classification_report\n",
    "cm = confusion_matrix(y_test, predictions_2)\n",
    "tn, fp, fn, tp = confusion_matrix(y_test, predictions_2).ravel()"
   ]
  },
  {
   "cell_type": "code",
   "execution_count": 82,
   "metadata": {},
   "outputs": [
    {
     "name": "stdout",
     "output_type": "stream",
     "text": [
      "Confusion Matrix :\n",
      "[[1676    9]\n",
      " [ 168   10]]\n",
      "1676 9 168 10\n",
      "Accuracy Score : 0.9049919484702094\n",
      "Report : \n",
      "              precision    recall  f1-score   support\n",
      "\n",
      "           0       0.91      0.99      0.95      1685\n",
      "           1       0.53      0.06      0.10       178\n",
      "\n",
      "    accuracy                           0.90      1863\n",
      "   macro avg       0.72      0.53      0.53      1863\n",
      "weighted avg       0.87      0.90      0.87      1863\n",
      "\n"
     ]
    }
   ],
   "source": [
    "print ('Confusion Matrix :')\n",
    "print(cm) \n",
    "print(tn, fp, fn, tp) \n",
    "print ('Accuracy Score :',accuracy_score(y_test, predictions_2) )\n",
    "print ('Report : ')\n",
    "print (classification_report(y_test, predictions_2) )"
   ]
  },
  {
   "cell_type": "code",
   "execution_count": 83,
   "metadata": {},
   "outputs": [
    {
     "data": {
      "text/html": [
       "<div>\n",
       "<style scoped>\n",
       "    .dataframe tbody tr th:only-of-type {\n",
       "        vertical-align: middle;\n",
       "    }\n",
       "\n",
       "    .dataframe tbody tr th {\n",
       "        vertical-align: top;\n",
       "    }\n",
       "\n",
       "    .dataframe thead th {\n",
       "        text-align: right;\n",
       "    }\n",
       "</style>\n",
       "<table border=\"1\" class=\"dataframe\">\n",
       "  <thead>\n",
       "    <tr style=\"text-align: right;\">\n",
       "      <th>Predicted</th>\n",
       "      <th>0</th>\n",
       "      <th>1</th>\n",
       "      <th>All</th>\n",
       "    </tr>\n",
       "    <tr>\n",
       "      <th>Actual</th>\n",
       "      <th></th>\n",
       "      <th></th>\n",
       "      <th></th>\n",
       "    </tr>\n",
       "  </thead>\n",
       "  <tbody>\n",
       "    <tr>\n",
       "      <th>0</th>\n",
       "      <td>1676</td>\n",
       "      <td>9</td>\n",
       "      <td>1685</td>\n",
       "    </tr>\n",
       "    <tr>\n",
       "      <th>1</th>\n",
       "      <td>168</td>\n",
       "      <td>10</td>\n",
       "      <td>178</td>\n",
       "    </tr>\n",
       "    <tr>\n",
       "      <th>All</th>\n",
       "      <td>1844</td>\n",
       "      <td>19</td>\n",
       "      <td>1863</td>\n",
       "    </tr>\n",
       "  </tbody>\n",
       "</table>\n",
       "</div>"
      ],
      "text/plain": [
       "Predicted     0   1   All\n",
       "Actual                   \n",
       "0          1676   9  1685\n",
       "1           168  10   178\n",
       "All        1844  19  1863"
      ]
     },
     "execution_count": 83,
     "metadata": {},
     "output_type": "execute_result"
    }
   ],
   "source": [
    "#create confusion matrix in pandas\n",
    "y_actu = pd.Series(y_test, name='Actual')\n",
    "y_pred = pd.Series(predictions_2, name='Predicted')\n",
    "df_confusion_matrix = pd.crosstab(y_actu, y_pred, rownames=['Actual'], colnames=['Predicted'], margins=True)\n",
    "df_confusion_matrix.head()"
   ]
  },
  {
   "cell_type": "code",
   "execution_count": 84,
   "metadata": {},
   "outputs": [
    {
     "name": "stdout",
     "output_type": "stream",
     "text": [
      "Predicted         0         1       All\n",
      "Actual                                 \n",
      "0          0.497329  0.025281  0.452228\n",
      "1          0.049852  0.028090  0.047772\n",
      "All        0.547181  0.053371  0.500000\n"
     ]
    }
   ],
   "source": [
    "#normalized confusion matrix using\n",
    "df_confusion_matrix_norm = df_confusion_matrix / df_confusion_matrix.sum(axis=1)\n",
    "print(df_confusion_matrix_norm)"
   ]
  },
  {
   "cell_type": "code",
   "execution_count": 85,
   "metadata": {},
   "outputs": [
    {
     "data": {
      "text/plain": [
       "(0.056179775280898875,\n",
       " 0.9946587537091988,\n",
       " 0.5263157894736842,\n",
       " 0.9088937093275488,\n",
       " 10,\n",
       " 9,\n",
       " 1676,\n",
       " 168)"
      ]
     },
     "execution_count": 85,
     "metadata": {},
     "output_type": "execute_result"
    }
   ],
   "source": [
    "from confusion_matrix import perf_measure\n",
    "\n",
    "perf_measure(y_test,predictions_2)"
   ]
  },
  {
   "cell_type": "code",
   "execution_count": 86,
   "metadata": {},
   "outputs": [
    {
     "data": {
      "image/png": "[encoded data removed]",
      "text/plain": [
       "<Figure size 720x432 with 2 Axes>"
      ]
     },
     "metadata": {
      "needs_background": "light"
     },
     "output_type": "display_data"
    }
   ],
   "source": [
    "from plot_confusion_matrix import plot_cm\n",
    "\n",
    "plot_cm(y_test, predictions_2, ['Negative','Positive'])"
   ]
  },
  {
   "cell_type": "code",
   "execution_count": 88,
   "metadata": {},
   "outputs": [
    {
     "data": {
      "text/plain": [
       "['bloottest_RFC_selected_features.pkl']"
      ]
     },
     "execution_count": 88,
     "metadata": {},
     "output_type": "execute_result"
    }
   ],
   "source": [
    "#saving the model\n",
    "# you can you import cPickle as well to save the model\n",
    "import dill\n",
    "from sklearn.externals import joblib\n",
    "\n",
    "# Save the trained model to a file so we can use it in other programs\n",
    "joblib.dump(tuned_model, 'bloottest_RFC_selected_features.pkl')\n",
    "\n",
    "#dill.dump(tuned_model, open(\"bloottest_RFC_selected_features.obj\",\"wb\"))\n",
    "\n",
    "#with open(\"bloottest_RFC_selected_features.obj\",\"wb\") as f:\n",
    "   # dill.dump(tuned_model,f)\n",
    "\n",
    "#call the model\n",
    "#model = dill.load(open(wd + \"bloottest_RFC_selected_features.obj\",\"rb\"))"
   ]
  },
  {
   "cell_type": "code",
   "execution_count": null,
   "metadata": {},
   "outputs": [],
   "source": []
  }
 ],
 "metadata": {
  "kernelspec": {
   "display_name": "Python 3",
   "language": "python",
   "name": "python3"
  },
  "language_info": {
   "codemirror_mode": {
    "name": "ipython",
    "version": 3
   },
   "file_extension": ".py",
   "mimetype": "text/x-python",
   "name": "python",
   "nbconvert_exporter": "python",
   "pygments_lexer": "ipython3",
   "version": "3.7.6"
  }
 },
 "nbformat": 4,
 "nbformat_minor": 4
}
