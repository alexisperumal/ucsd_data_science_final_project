{
 "cells": [
  {
   "cell_type": "code",
   "execution_count": 1,
   "metadata": {},
   "outputs": [],
   "source": [
    "import numpy as np\n",
    "import matplotlib.pyplot as plt\n",
    "import pandas as pd"
   ]
  },
  {
   "cell_type": "code",
   "execution_count": 2,
   "metadata": {},
   "outputs": [
    {
     "data": {
      "text/html": [
       "<div>\n",
       "<style scoped>\n",
       "    .dataframe tbody tr th:only-of-type {\n",
       "        vertical-align: middle;\n",
       "    }\n",
       "\n",
       "    .dataframe tbody tr th {\n",
       "        vertical-align: top;\n",
       "    }\n",
       "\n",
       "    .dataframe thead th {\n",
       "        text-align: right;\n",
       "    }\n",
       "</style>\n",
       "<table border=\"1\" class=\"dataframe\">\n",
       "  <thead>\n",
       "    <tr style=\"text-align: right;\">\n",
       "      <th></th>\n",
       "      <th>patient_id</th>\n",
       "      <th>patient_age_quantile</th>\n",
       "      <th>sars_cov_2_exam_result</th>\n",
       "      <th>patient_addmited_to_regular_ward_1_yes_0_no</th>\n",
       "      <th>patient_addmited_to_semi_intensive_unit_1_yes_0_no</th>\n",
       "      <th>patient_addmited_to_intensive_care_unit_1_yes_0_no</th>\n",
       "      <th>hematocrit</th>\n",
       "      <th>hemoglobin</th>\n",
       "      <th>platelets</th>\n",
       "      <th>mean_platelet_volume</th>\n",
       "      <th>...</th>\n",
       "      <th>hb_saturation_arterial_blood_gases</th>\n",
       "      <th>pco2_arterial_blood_gas_analysis</th>\n",
       "      <th>base_excess_arterial_blood_gas_analysis</th>\n",
       "      <th>ph_arterial_blood_gas_analysis</th>\n",
       "      <th>total_co2_arterial_blood_gas_analysis</th>\n",
       "      <th>hco3_arterial_blood_gas_analysis</th>\n",
       "      <th>po2_arterial_blood_gas_analysis</th>\n",
       "      <th>arteiral_fio2</th>\n",
       "      <th>phosphor</th>\n",
       "      <th>cto2_arterial_blood_gas_analysis</th>\n",
       "    </tr>\n",
       "  </thead>\n",
       "  <tbody>\n",
       "    <tr>\n",
       "      <th>5639</th>\n",
       "      <td>ae66feb9e4dc3a0</td>\n",
       "      <td>3</td>\n",
       "      <td>positive</td>\n",
       "      <td>f</td>\n",
       "      <td>f</td>\n",
       "      <td>f</td>\n",
       "      <td>NaN</td>\n",
       "      <td>NaN</td>\n",
       "      <td>NaN</td>\n",
       "      <td>NaN</td>\n",
       "      <td>...</td>\n",
       "      <td>NaN</td>\n",
       "      <td>NaN</td>\n",
       "      <td>NaN</td>\n",
       "      <td>NaN</td>\n",
       "      <td>NaN</td>\n",
       "      <td>NaN</td>\n",
       "      <td>NaN</td>\n",
       "      <td>NaN</td>\n",
       "      <td>NaN</td>\n",
       "      <td>NaN</td>\n",
       "    </tr>\n",
       "    <tr>\n",
       "      <th>5640</th>\n",
       "      <td>517c2834024f3ea</td>\n",
       "      <td>17</td>\n",
       "      <td>negative</td>\n",
       "      <td>f</td>\n",
       "      <td>f</td>\n",
       "      <td>f</td>\n",
       "      <td>NaN</td>\n",
       "      <td>NaN</td>\n",
       "      <td>NaN</td>\n",
       "      <td>NaN</td>\n",
       "      <td>...</td>\n",
       "      <td>NaN</td>\n",
       "      <td>NaN</td>\n",
       "      <td>NaN</td>\n",
       "      <td>NaN</td>\n",
       "      <td>NaN</td>\n",
       "      <td>NaN</td>\n",
       "      <td>NaN</td>\n",
       "      <td>NaN</td>\n",
       "      <td>NaN</td>\n",
       "      <td>NaN</td>\n",
       "    </tr>\n",
       "    <tr>\n",
       "      <th>5641</th>\n",
       "      <td>5c57d6037fe266d</td>\n",
       "      <td>4</td>\n",
       "      <td>negative</td>\n",
       "      <td>f</td>\n",
       "      <td>f</td>\n",
       "      <td>f</td>\n",
       "      <td>NaN</td>\n",
       "      <td>NaN</td>\n",
       "      <td>NaN</td>\n",
       "      <td>NaN</td>\n",
       "      <td>...</td>\n",
       "      <td>NaN</td>\n",
       "      <td>NaN</td>\n",
       "      <td>NaN</td>\n",
       "      <td>NaN</td>\n",
       "      <td>NaN</td>\n",
       "      <td>NaN</td>\n",
       "      <td>NaN</td>\n",
       "      <td>NaN</td>\n",
       "      <td>NaN</td>\n",
       "      <td>NaN</td>\n",
       "    </tr>\n",
       "    <tr>\n",
       "      <th>5642</th>\n",
       "      <td>c20c44766f28291</td>\n",
       "      <td>10</td>\n",
       "      <td>negative</td>\n",
       "      <td>f</td>\n",
       "      <td>f</td>\n",
       "      <td>f</td>\n",
       "      <td>NaN</td>\n",
       "      <td>NaN</td>\n",
       "      <td>NaN</td>\n",
       "      <td>NaN</td>\n",
       "      <td>...</td>\n",
       "      <td>NaN</td>\n",
       "      <td>NaN</td>\n",
       "      <td>NaN</td>\n",
       "      <td>NaN</td>\n",
       "      <td>NaN</td>\n",
       "      <td>NaN</td>\n",
       "      <td>NaN</td>\n",
       "      <td>NaN</td>\n",
       "      <td>NaN</td>\n",
       "      <td>NaN</td>\n",
       "    </tr>\n",
       "    <tr>\n",
       "      <th>5643</th>\n",
       "      <td>2697fdccbfeb7f7</td>\n",
       "      <td>19</td>\n",
       "      <td>positive</td>\n",
       "      <td>f</td>\n",
       "      <td>f</td>\n",
       "      <td>f</td>\n",
       "      <td>0.694287</td>\n",
       "      <td>0.541564</td>\n",
       "      <td>-0.906829</td>\n",
       "      <td>-0.325903</td>\n",
       "      <td>...</td>\n",
       "      <td>NaN</td>\n",
       "      <td>NaN</td>\n",
       "      <td>NaN</td>\n",
       "      <td>NaN</td>\n",
       "      <td>NaN</td>\n",
       "      <td>NaN</td>\n",
       "      <td>NaN</td>\n",
       "      <td>NaN</td>\n",
       "      <td>NaN</td>\n",
       "      <td>NaN</td>\n",
       "    </tr>\n",
       "  </tbody>\n",
       "</table>\n",
       "<p>5 rows × 111 columns</p>\n",
       "</div>"
      ],
      "text/plain": [
       "           patient_id  patient_age_quantile sars_cov_2_exam_result  \\\n",
       "5639  ae66feb9e4dc3a0                     3               positive   \n",
       "5640  517c2834024f3ea                    17               negative   \n",
       "5641  5c57d6037fe266d                     4               negative   \n",
       "5642  c20c44766f28291                    10               negative   \n",
       "5643  2697fdccbfeb7f7                    19               positive   \n",
       "\n",
       "     patient_addmited_to_regular_ward_1_yes_0_no  \\\n",
       "5639                                           f   \n",
       "5640                                           f   \n",
       "5641                                           f   \n",
       "5642                                           f   \n",
       "5643                                           f   \n",
       "\n",
       "     patient_addmited_to_semi_intensive_unit_1_yes_0_no  \\\n",
       "5639                                                  f   \n",
       "5640                                                  f   \n",
       "5641                                                  f   \n",
       "5642                                                  f   \n",
       "5643                                                  f   \n",
       "\n",
       "     patient_addmited_to_intensive_care_unit_1_yes_0_no  hematocrit  \\\n",
       "5639                                                  f         NaN   \n",
       "5640                                                  f         NaN   \n",
       "5641                                                  f         NaN   \n",
       "5642                                                  f         NaN   \n",
       "5643                                                  f    0.694287   \n",
       "\n",
       "      hemoglobin  platelets  mean_platelet_volume  ...  \\\n",
       "5639         NaN        NaN                   NaN  ...   \n",
       "5640         NaN        NaN                   NaN  ...   \n",
       "5641         NaN        NaN                   NaN  ...   \n",
       "5642         NaN        NaN                   NaN  ...   \n",
       "5643    0.541564  -0.906829             -0.325903  ...   \n",
       "\n",
       "      hb_saturation_arterial_blood_gases  pco2_arterial_blood_gas_analysis  \\\n",
       "5639                                 NaN                               NaN   \n",
       "5640                                 NaN                               NaN   \n",
       "5641                                 NaN                               NaN   \n",
       "5642                                 NaN                               NaN   \n",
       "5643                                 NaN                               NaN   \n",
       "\n",
       "      base_excess_arterial_blood_gas_analysis  ph_arterial_blood_gas_analysis  \\\n",
       "5639                                      NaN                             NaN   \n",
       "5640                                      NaN                             NaN   \n",
       "5641                                      NaN                             NaN   \n",
       "5642                                      NaN                             NaN   \n",
       "5643                                      NaN                             NaN   \n",
       "\n",
       "      total_co2_arterial_blood_gas_analysis  hco3_arterial_blood_gas_analysis  \\\n",
       "5639                                    NaN                               NaN   \n",
       "5640                                    NaN                               NaN   \n",
       "5641                                    NaN                               NaN   \n",
       "5642                                    NaN                               NaN   \n",
       "5643                                    NaN                               NaN   \n",
       "\n",
       "      po2_arterial_blood_gas_analysis  arteiral_fio2  phosphor  \\\n",
       "5639                              NaN            NaN       NaN   \n",
       "5640                              NaN            NaN       NaN   \n",
       "5641                              NaN            NaN       NaN   \n",
       "5642                              NaN            NaN       NaN   \n",
       "5643                              NaN            NaN       NaN   \n",
       "\n",
       "      cto2_arterial_blood_gas_analysis  \n",
       "5639                               NaN  \n",
       "5640                               NaN  \n",
       "5641                               NaN  \n",
       "5642                               NaN  \n",
       "5643                               NaN  \n",
       "\n",
       "[5 rows x 111 columns]"
      ]
     },
     "execution_count": 2,
     "metadata": {},
     "output_type": "execute_result"
    }
   ],
   "source": [
    "dataset = pd.read_csv('../Resources/diagnosis-of-covid-19-and-its-clinical-spectrum.csv')\n",
    "dataset.tail()"
   ]
  },
  {
   "cell_type": "code",
   "execution_count": 3,
   "metadata": {},
   "outputs": [
    {
     "data": {
      "text/html": [
       "<div>\n",
       "<style scoped>\n",
       "    .dataframe tbody tr th:only-of-type {\n",
       "        vertical-align: middle;\n",
       "    }\n",
       "\n",
       "    .dataframe tbody tr th {\n",
       "        vertical-align: top;\n",
       "    }\n",
       "\n",
       "    .dataframe thead th {\n",
       "        text-align: right;\n",
       "    }\n",
       "</style>\n",
       "<table border=\"1\" class=\"dataframe\">\n",
       "  <thead>\n",
       "    <tr style=\"text-align: right;\">\n",
       "      <th></th>\n",
       "      <th>patient_id</th>\n",
       "      <th>patient_age_quantile</th>\n",
       "      <th>sars_cov_2_exam_result</th>\n",
       "      <th>hematocrit</th>\n",
       "      <th>hemoglobin</th>\n",
       "      <th>platelets</th>\n",
       "      <th>mean_platelet_volume</th>\n",
       "      <th>red_blood_cells</th>\n",
       "      <th>lymphocytes</th>\n",
       "      <th>mean_corpuscular_hemoglobin_concentration_mchc</th>\n",
       "      <th>leukocytes</th>\n",
       "      <th>basophils</th>\n",
       "      <th>mean_corpuscular_hemoglobin_mch</th>\n",
       "      <th>eosinophils</th>\n",
       "      <th>mean_corpuscular_volume_mcv</th>\n",
       "      <th>monocytes</th>\n",
       "      <th>red_blood_cell_distribution_width_rdw</th>\n",
       "      <th>serum_glucose</th>\n",
       "    </tr>\n",
       "  </thead>\n",
       "  <tbody>\n",
       "    <tr>\n",
       "      <th>0</th>\n",
       "      <td>44477f75e8169d2</td>\n",
       "      <td>13</td>\n",
       "      <td>negative</td>\n",
       "      <td>NaN</td>\n",
       "      <td>NaN</td>\n",
       "      <td>NaN</td>\n",
       "      <td>NaN</td>\n",
       "      <td>NaN</td>\n",
       "      <td>NaN</td>\n",
       "      <td>NaN</td>\n",
       "      <td>NaN</td>\n",
       "      <td>NaN</td>\n",
       "      <td>NaN</td>\n",
       "      <td>NaN</td>\n",
       "      <td>NaN</td>\n",
       "      <td>NaN</td>\n",
       "      <td>NaN</td>\n",
       "      <td>NaN</td>\n",
       "    </tr>\n",
       "    <tr>\n",
       "      <th>1</th>\n",
       "      <td>126e9dd13932f68</td>\n",
       "      <td>17</td>\n",
       "      <td>negative</td>\n",
       "      <td>0.236515</td>\n",
       "      <td>-0.02234</td>\n",
       "      <td>-0.517413</td>\n",
       "      <td>0.010677</td>\n",
       "      <td>0.102004</td>\n",
       "      <td>0.318366</td>\n",
       "      <td>-0.95079</td>\n",
       "      <td>-0.09461</td>\n",
       "      <td>-0.223767</td>\n",
       "      <td>-0.292269</td>\n",
       "      <td>1.482158</td>\n",
       "      <td>0.166192</td>\n",
       "      <td>0.357547</td>\n",
       "      <td>-0.625073</td>\n",
       "      <td>-0.140648</td>\n",
       "    </tr>\n",
       "    <tr>\n",
       "      <th>2</th>\n",
       "      <td>a46b4402a0e5696</td>\n",
       "      <td>8</td>\n",
       "      <td>negative</td>\n",
       "      <td>NaN</td>\n",
       "      <td>NaN</td>\n",
       "      <td>NaN</td>\n",
       "      <td>NaN</td>\n",
       "      <td>NaN</td>\n",
       "      <td>NaN</td>\n",
       "      <td>NaN</td>\n",
       "      <td>NaN</td>\n",
       "      <td>NaN</td>\n",
       "      <td>NaN</td>\n",
       "      <td>NaN</td>\n",
       "      <td>NaN</td>\n",
       "      <td>NaN</td>\n",
       "      <td>NaN</td>\n",
       "      <td>NaN</td>\n",
       "    </tr>\n",
       "    <tr>\n",
       "      <th>3</th>\n",
       "      <td>f7d619a94f97c45</td>\n",
       "      <td>5</td>\n",
       "      <td>negative</td>\n",
       "      <td>NaN</td>\n",
       "      <td>NaN</td>\n",
       "      <td>NaN</td>\n",
       "      <td>NaN</td>\n",
       "      <td>NaN</td>\n",
       "      <td>NaN</td>\n",
       "      <td>NaN</td>\n",
       "      <td>NaN</td>\n",
       "      <td>NaN</td>\n",
       "      <td>NaN</td>\n",
       "      <td>NaN</td>\n",
       "      <td>NaN</td>\n",
       "      <td>NaN</td>\n",
       "      <td>NaN</td>\n",
       "      <td>NaN</td>\n",
       "    </tr>\n",
       "    <tr>\n",
       "      <th>4</th>\n",
       "      <td>d9e41465789c2b5</td>\n",
       "      <td>15</td>\n",
       "      <td>negative</td>\n",
       "      <td>NaN</td>\n",
       "      <td>NaN</td>\n",
       "      <td>NaN</td>\n",
       "      <td>NaN</td>\n",
       "      <td>NaN</td>\n",
       "      <td>NaN</td>\n",
       "      <td>NaN</td>\n",
       "      <td>NaN</td>\n",
       "      <td>NaN</td>\n",
       "      <td>NaN</td>\n",
       "      <td>NaN</td>\n",
       "      <td>NaN</td>\n",
       "      <td>NaN</td>\n",
       "      <td>NaN</td>\n",
       "      <td>NaN</td>\n",
       "    </tr>\n",
       "  </tbody>\n",
       "</table>\n",
       "</div>"
      ],
      "text/plain": [
       "        patient_id  patient_age_quantile sars_cov_2_exam_result  hematocrit  \\\n",
       "0  44477f75e8169d2                    13               negative         NaN   \n",
       "1  126e9dd13932f68                    17               negative    0.236515   \n",
       "2  a46b4402a0e5696                     8               negative         NaN   \n",
       "3  f7d619a94f97c45                     5               negative         NaN   \n",
       "4  d9e41465789c2b5                    15               negative         NaN   \n",
       "\n",
       "   hemoglobin  platelets  mean_platelet_volume  red_blood_cells  lymphocytes  \\\n",
       "0         NaN        NaN                   NaN              NaN          NaN   \n",
       "1    -0.02234  -0.517413              0.010677         0.102004     0.318366   \n",
       "2         NaN        NaN                   NaN              NaN          NaN   \n",
       "3         NaN        NaN                   NaN              NaN          NaN   \n",
       "4         NaN        NaN                   NaN              NaN          NaN   \n",
       "\n",
       "   mean_corpuscular_hemoglobin_concentration_mchc  leukocytes  basophils  \\\n",
       "0                                             NaN         NaN        NaN   \n",
       "1                                        -0.95079    -0.09461  -0.223767   \n",
       "2                                             NaN         NaN        NaN   \n",
       "3                                             NaN         NaN        NaN   \n",
       "4                                             NaN         NaN        NaN   \n",
       "\n",
       "   mean_corpuscular_hemoglobin_mch  eosinophils  mean_corpuscular_volume_mcv  \\\n",
       "0                              NaN          NaN                          NaN   \n",
       "1                        -0.292269     1.482158                     0.166192   \n",
       "2                              NaN          NaN                          NaN   \n",
       "3                              NaN          NaN                          NaN   \n",
       "4                              NaN          NaN                          NaN   \n",
       "\n",
       "   monocytes  red_blood_cell_distribution_width_rdw  serum_glucose  \n",
       "0        NaN                                    NaN            NaN  \n",
       "1   0.357547                              -0.625073      -0.140648  \n",
       "2        NaN                                    NaN            NaN  \n",
       "3        NaN                                    NaN            NaN  \n",
       "4        NaN                                    NaN            NaN  "
      ]
     },
     "execution_count": 3,
     "metadata": {},
     "output_type": "execute_result"
    }
   ],
   "source": [
    "dataset_new = dataset[[\"patient_id\",\"patient_age_quantile\",\"sars_cov_2_exam_result\",\"hematocrit\",\"hemoglobin\",\"platelets\",\"mean_platelet_volume\",\"red_blood_cells\",\"lymphocytes\",\"mean_corpuscular_hemoglobin_concentration_mchc\",\"leukocytes\",\"basophils\",\"mean_corpuscular_hemoglobin_mch\",\"eosinophils\",\"mean_corpuscular_volume_mcv\",\"monocytes\",\"red_blood_cell_distribution_width_rdw\",\"serum_glucose\"]].copy()\n",
    "dataset_new.head()"
   ]
  },
  {
   "cell_type": "code",
   "execution_count": 4,
   "metadata": {},
   "outputs": [
    {
     "name": "stdout",
     "output_type": "stream",
     "text": [
      "5644\n"
     ]
    }
   ],
   "source": [
    "print(len(dataset_new.index))"
   ]
  },
  {
   "cell_type": "code",
   "execution_count": 5,
   "metadata": {},
   "outputs": [],
   "source": [
    "list_X = [\"patient_age_quantile\",\"hematocrit\",\"hemoglobin\",\"platelets\",\"mean_platelet_volume\",\"red_blood_cells\",\"lymphocytes\",\"mean_corpuscular_hemoglobin_concentration_mchc\",\"leukocytes\",\"basophils\",\"mean_corpuscular_hemoglobin_mch\",\"eosinophils\",\"mean_corpuscular_volume_mcv\",\"monocytes\",\"red_blood_cell_distribution_width_rdw\",\"serum_glucose\"]"
   ]
  },
  {
   "cell_type": "code",
   "execution_count": 6,
   "metadata": {},
   "outputs": [
    {
     "name": "stdout",
     "output_type": "stream",
     "text": [
      "[[13.                 nan         nan ...         nan         nan\n",
      "          nan]\n",
      " [17.          0.23651545 -0.02234027 ...  0.35754666 -0.62507266\n",
      "  -0.14064808]\n",
      " [ 8.                 nan         nan ...         nan         nan\n",
      "          nan]\n",
      " ...\n",
      " [ 4.                 nan         nan ...         nan         nan\n",
      "          nan]\n",
      " [10.                 nan         nan ...         nan         nan\n",
      "          nan]\n",
      " [19.          0.69428688  0.54156393 ...  0.5676524  -0.18279028\n",
      "          nan]]\n"
     ]
    }
   ],
   "source": [
    "X = dataset_new[list_X].values\n",
    "y = dataset_new[\"sars_cov_2_exam_result\"].values\n",
    "print(X)"
   ]
  },
  {
   "cell_type": "code",
   "execution_count": 7,
   "metadata": {},
   "outputs": [
    {
     "name": "stdout",
     "output_type": "stream",
     "text": [
      "['negative' 'negative' 'negative' ... 'negative' 'negative' 'positive']\n"
     ]
    }
   ],
   "source": [
    "print(y)"
   ]
  },
  {
   "cell_type": "code",
   "execution_count": 8,
   "metadata": {},
   "outputs": [
    {
     "name": "stdout",
     "output_type": "stream",
     "text": [
      "16\n"
     ]
    }
   ],
   "source": [
    "\n",
    "print(len(list_X))"
   ]
  },
  {
   "cell_type": "code",
   "execution_count": 9,
   "metadata": {},
   "outputs": [],
   "source": [
    "#taking care of missing data\n",
    "from sklearn.impute import SimpleImputer\n",
    "imputer = SimpleImputer(missing_values=np.nan, strategy='mean')\n",
    "imputer.fit(X[:, 1:len(list_X)])\n",
    "X[:, 1:len(list_X)] = imputer.transform(X[:, 1:len(list_X)])"
   ]
  },
  {
   "cell_type": "code",
   "execution_count": 10,
   "metadata": {},
   "outputs": [
    {
     "name": "stdout",
     "output_type": "stream",
     "text": [
      "[[ 1.30000000e+01 -2.18621415e-09 -1.60131883e-08 ... -3.22011376e-09\n",
      "   1.02043253e-08  7.06999220e-09]\n",
      " [ 1.70000000e+01  2.36515447e-01 -2.23402679e-02 ...  3.57546657e-01\n",
      "  -6.25072658e-01 -1.40648082e-01]\n",
      " [ 8.00000000e+00 -2.18621415e-09 -1.60131883e-08 ... -3.22011376e-09\n",
      "   1.02043253e-08  7.06999220e-09]\n",
      " ...\n",
      " [ 4.00000000e+00 -2.18621415e-09 -1.60131883e-08 ... -3.22011376e-09\n",
      "   1.02043253e-08  7.06999220e-09]\n",
      " [ 1.00000000e+01 -2.18621415e-09 -1.60131883e-08 ... -3.22011376e-09\n",
      "   1.02043253e-08  7.06999220e-09]\n",
      " [ 1.90000000e+01  6.94286883e-01  5.41563928e-01 ...  5.67652404e-01\n",
      "  -1.82790279e-01  7.06999220e-09]]\n"
     ]
    }
   ],
   "source": [
    "print(X)"
   ]
  },
  {
   "cell_type": "code",
   "execution_count": 11,
   "metadata": {},
   "outputs": [
    {
     "name": "stdout",
     "output_type": "stream",
     "text": [
      "[0 0 0 ... 0 0 1]\n"
     ]
    }
   ],
   "source": [
    "#encoding variable\n",
    "from sklearn.preprocessing import LabelEncoder\n",
    "le = LabelEncoder()\n",
    "y = le.fit_transform(y)\n",
    "print(y)"
   ]
  },
  {
   "cell_type": "code",
   "execution_count": 12,
   "metadata": {},
   "outputs": [],
   "source": [
    "# split data into training and testing\n",
    "from sklearn.model_selection import train_test_split\n",
    "\n",
    "X_train, X_test, y_train, y_test = train_test_split(X, y, test_size= 0.2, random_state=42)"
   ]
  },
  {
   "cell_type": "code",
   "execution_count": 13,
   "metadata": {},
   "outputs": [],
   "source": [
    "#Scale the data using the MinMaxScaler\n",
    "from sklearn.preprocessing import StandardScaler\n",
    "X_scaler = StandardScaler().fit(X_train)"
   ]
  },
  {
   "cell_type": "code",
   "execution_count": 14,
   "metadata": {},
   "outputs": [],
   "source": [
    "X_train_scaled = X_scaler.transform(X_train)\n",
    "X_test_scaled = X_scaler.transform(X_test)"
   ]
  },
  {
   "cell_type": "code",
   "execution_count": 15,
   "metadata": {},
   "outputs": [
    {
     "data": {
      "text/plain": [
       "RandomForestClassifier(bootstrap=True, ccp_alpha=0.0, class_weight=None,\n",
       "                       criterion='gini', max_depth=None, max_features='auto',\n",
       "                       max_leaf_nodes=None, max_samples=None,\n",
       "                       min_impurity_decrease=0.0, min_impurity_split=None,\n",
       "                       min_samples_leaf=1, min_samples_split=2,\n",
       "                       min_weight_fraction_leaf=0.0, n_estimators=200,\n",
       "                       n_jobs=None, oob_score=False, random_state=None,\n",
       "                       verbose=0, warm_start=False)"
      ]
     },
     "execution_count": 15,
     "metadata": {},
     "output_type": "execute_result"
    }
   ],
   "source": [
    "from sklearn.ensemble import RandomForestClassifier\n",
    "model = RandomForestClassifier(n_estimators = 200)\n",
    "model.fit(X_train_scaled, y_train)"
   ]
  },
  {
   "cell_type": "code",
   "execution_count": 16,
   "metadata": {},
   "outputs": [
    {
     "name": "stdout",
     "output_type": "stream",
     "text": [
      "Training Data Score: 0.9149501661129568\n",
      "Testing Data Score: 0.9114260407440212\n"
     ]
    }
   ],
   "source": [
    "print(f\"Training Data Score: {model.score(X_train_scaled, y_train)}\")\n",
    "print(f\"Testing Data Score: {model.score(X_test_scaled, y_test)}\")"
   ]
  },
  {
   "cell_type": "code",
   "execution_count": 17,
   "metadata": {},
   "outputs": [
    {
     "name": "stdout",
     "output_type": "stream",
     "text": [
      "MSE: 0.08857395925597875, R2: 0.9114260407440212\n"
     ]
    }
   ],
   "source": [
    "from sklearn.metrics import mean_squared_error\n",
    "\n",
    "predictions = model.predict(X_test_scaled)\n",
    "MSE = mean_squared_error(y_test, predictions)\n",
    "r2 = model.score(X_test_scaled, y_test)\n",
    "\n",
    "print(f\"MSE: {MSE}, R2: {r2}\")"
   ]
  },
  {
   "cell_type": "code",
   "execution_count": 18,
   "metadata": {},
   "outputs": [
    {
     "data": {
      "text/html": [
       "<div>\n",
       "<style scoped>\n",
       "    .dataframe tbody tr th:only-of-type {\n",
       "        vertical-align: middle;\n",
       "    }\n",
       "\n",
       "    .dataframe tbody tr th {\n",
       "        vertical-align: top;\n",
       "    }\n",
       "\n",
       "    .dataframe thead th {\n",
       "        text-align: right;\n",
       "    }\n",
       "</style>\n",
       "<table border=\"1\" class=\"dataframe\">\n",
       "  <thead>\n",
       "    <tr style=\"text-align: right;\">\n",
       "      <th></th>\n",
       "      <th>Actual</th>\n",
       "      <th>Prediction</th>\n",
       "    </tr>\n",
       "  </thead>\n",
       "  <tbody>\n",
       "    <tr>\n",
       "      <th>0</th>\n",
       "      <td>0</td>\n",
       "      <td>0</td>\n",
       "    </tr>\n",
       "    <tr>\n",
       "      <th>1</th>\n",
       "      <td>0</td>\n",
       "      <td>0</td>\n",
       "    </tr>\n",
       "    <tr>\n",
       "      <th>2</th>\n",
       "      <td>0</td>\n",
       "      <td>0</td>\n",
       "    </tr>\n",
       "    <tr>\n",
       "      <th>3</th>\n",
       "      <td>0</td>\n",
       "      <td>0</td>\n",
       "    </tr>\n",
       "    <tr>\n",
       "      <th>4</th>\n",
       "      <td>0</td>\n",
       "      <td>0</td>\n",
       "    </tr>\n",
       "    <tr>\n",
       "      <th>...</th>\n",
       "      <td>...</td>\n",
       "      <td>...</td>\n",
       "    </tr>\n",
       "    <tr>\n",
       "      <th>95</th>\n",
       "      <td>1</td>\n",
       "      <td>0</td>\n",
       "    </tr>\n",
       "    <tr>\n",
       "      <th>96</th>\n",
       "      <td>0</td>\n",
       "      <td>0</td>\n",
       "    </tr>\n",
       "    <tr>\n",
       "      <th>97</th>\n",
       "      <td>0</td>\n",
       "      <td>0</td>\n",
       "    </tr>\n",
       "    <tr>\n",
       "      <th>98</th>\n",
       "      <td>0</td>\n",
       "      <td>0</td>\n",
       "    </tr>\n",
       "    <tr>\n",
       "      <th>99</th>\n",
       "      <td>0</td>\n",
       "      <td>0</td>\n",
       "    </tr>\n",
       "  </tbody>\n",
       "</table>\n",
       "<p>100 rows × 2 columns</p>\n",
       "</div>"
      ],
      "text/plain": [
       "    Actual  Prediction\n",
       "0        0           0\n",
       "1        0           0\n",
       "2        0           0\n",
       "3        0           0\n",
       "4        0           0\n",
       "..     ...         ...\n",
       "95       1           0\n",
       "96       0           0\n",
       "97       0           0\n",
       "98       0           0\n",
       "99       0           0\n",
       "\n",
       "[100 rows x 2 columns]"
      ]
     },
     "execution_count": 18,
     "metadata": {},
     "output_type": "execute_result"
    }
   ],
   "source": [
    "predictions = model.predict(X_test_scaled)\n",
    "\n",
    "prediction_actual = {\n",
    "    'Actual': y_test,\n",
    "    'Prediction': predictions\n",
    "}\n",
    "\n",
    "df = pd.DataFrame(prediction_actual)\n",
    "df = df.set_index('Actual').reset_index()\n",
    "df.head(100)"
   ]
  },
  {
   "cell_type": "code",
   "execution_count": 19,
   "metadata": {},
   "outputs": [
    {
     "name": "stdout",
     "output_type": "stream",
     "text": [
      "['patient_age_quantile', 'hematocrit', 'hemoglobin', 'platelets', 'mean_platelet_volume', 'red_blood_cells', 'lymphocytes', 'mean_corpuscular_hemoglobin_concentration_mchc', 'leukocytes', 'basophils', 'mean_corpuscular_hemoglobin_mch', 'eosinophils', 'mean_corpuscular_volume_mcv', 'monocytes', 'red_blood_cell_distribution_width_rdw', 'serum_glucose']\n"
     ]
    }
   ],
   "source": [
    "# list of all the X columns\n",
    "feature_names = list_X\n",
    "print(feature_names)"
   ]
  },
  {
   "cell_type": "code",
   "execution_count": 20,
   "metadata": {},
   "outputs": [
    {
     "data": {
      "text/html": [
       "<div>\n",
       "<style scoped>\n",
       "    .dataframe tbody tr th:only-of-type {\n",
       "        vertical-align: middle;\n",
       "    }\n",
       "\n",
       "    .dataframe tbody tr th {\n",
       "        vertical-align: top;\n",
       "    }\n",
       "\n",
       "    .dataframe thead th {\n",
       "        text-align: right;\n",
       "    }\n",
       "</style>\n",
       "<table border=\"1\" class=\"dataframe\">\n",
       "  <thead>\n",
       "    <tr style=\"text-align: right;\">\n",
       "      <th></th>\n",
       "      <th>Score</th>\n",
       "    </tr>\n",
       "    <tr>\n",
       "      <th>Feature</th>\n",
       "      <th></th>\n",
       "    </tr>\n",
       "  </thead>\n",
       "  <tbody>\n",
       "    <tr>\n",
       "      <th>patient_age_quantile</th>\n",
       "      <td>0.190223</td>\n",
       "    </tr>\n",
       "    <tr>\n",
       "      <th>leukocytes</th>\n",
       "      <td>0.157696</td>\n",
       "    </tr>\n",
       "    <tr>\n",
       "      <th>platelets</th>\n",
       "      <td>0.091098</td>\n",
       "    </tr>\n",
       "    <tr>\n",
       "      <th>monocytes</th>\n",
       "      <td>0.085614</td>\n",
       "    </tr>\n",
       "    <tr>\n",
       "      <th>hematocrit</th>\n",
       "      <td>0.054235</td>\n",
       "    </tr>\n",
       "    <tr>\n",
       "      <th>eosinophils</th>\n",
       "      <td>0.052246</td>\n",
       "    </tr>\n",
       "    <tr>\n",
       "      <th>red_blood_cells</th>\n",
       "      <td>0.051214</td>\n",
       "    </tr>\n",
       "    <tr>\n",
       "      <th>lymphocytes</th>\n",
       "      <td>0.050722</td>\n",
       "    </tr>\n",
       "    <tr>\n",
       "      <th>hemoglobin</th>\n",
       "      <td>0.039104</td>\n",
       "    </tr>\n",
       "    <tr>\n",
       "      <th>mean_platelet_volume</th>\n",
       "      <td>0.039012</td>\n",
       "    </tr>\n",
       "    <tr>\n",
       "      <th>mean_corpuscular_hemoglobin_concentration_mchc</th>\n",
       "      <td>0.037416</td>\n",
       "    </tr>\n",
       "    <tr>\n",
       "      <th>mean_corpuscular_volume_mcv</th>\n",
       "      <td>0.036541</td>\n",
       "    </tr>\n",
       "    <tr>\n",
       "      <th>red_blood_cell_distribution_width_rdw</th>\n",
       "      <td>0.033645</td>\n",
       "    </tr>\n",
       "    <tr>\n",
       "      <th>mean_corpuscular_hemoglobin_mch</th>\n",
       "      <td>0.031641</td>\n",
       "    </tr>\n",
       "    <tr>\n",
       "      <th>basophils</th>\n",
       "      <td>0.027372</td>\n",
       "    </tr>\n",
       "    <tr>\n",
       "      <th>serum_glucose</th>\n",
       "      <td>0.022220</td>\n",
       "    </tr>\n",
       "  </tbody>\n",
       "</table>\n",
       "</div>"
      ],
      "text/plain": [
       "                                                   Score\n",
       "Feature                                                 \n",
       "patient_age_quantile                            0.190223\n",
       "leukocytes                                      0.157696\n",
       "platelets                                       0.091098\n",
       "monocytes                                       0.085614\n",
       "hematocrit                                      0.054235\n",
       "eosinophils                                     0.052246\n",
       "red_blood_cells                                 0.051214\n",
       "lymphocytes                                     0.050722\n",
       "hemoglobin                                      0.039104\n",
       "mean_platelet_volume                            0.039012\n",
       "mean_corpuscular_hemoglobin_concentration_mchc  0.037416\n",
       "mean_corpuscular_volume_mcv                     0.036541\n",
       "red_blood_cell_distribution_width_rdw           0.033645\n",
       "mean_corpuscular_hemoglobin_mch                 0.031641\n",
       "basophils                                       0.027372\n",
       "serum_glucose                                   0.022220"
      ]
     },
     "execution_count": 20,
     "metadata": {},
     "output_type": "execute_result"
    }
   ],
   "source": [
    "# Determine which features should to be kept\n",
    "preSelected_features = sorted(zip(model.feature_importances_, feature_names), reverse=True)\n",
    "ranked_features = pd.DataFrame(preSelected_features, columns=['Score', 'Feature'])\n",
    "ranked_features = ranked_features.set_index('Feature')\n",
    "ranked_features"
   ]
  },
  {
   "cell_type": "code",
   "execution_count": 100,
   "metadata": {},
   "outputs": [
    {
     "data": {
      "image/png": "[encoded data removed]",
      "text/plain": [
       "<Figure size 1080x1296 with 1 Axes>"
      ]
     },
     "metadata": {},
     "output_type": "display_data"
    }
   ],
   "source": [
    "from matplotlib import pyplot as plt\n",
    "import seaborn as sns\n",
    "\n",
    "plt.figure(figsize=(15, 18))\n",
    "\n",
    "sns.set(style=\"darkgrid\")\n",
    "sns.set_color_codes(\"muted\")\n",
    "# Create list of colors based on a condition \n",
    "colors = ['red' if (x < 0.039) else 'green' for x in ranked_features['Score']]\n",
    "\n",
    "\n",
    "# Create barplot \n",
    "ax = sns.barplot(data=ranked_features.transpose(), palette=colors, orient='h')\n",
    "\n",
    "plt.title('score for each feature')\n",
    "# Set x-axis label\n",
    "plt.xlabel('score')\n",
    "# Set y-axis label\n",
    "plt.ylabel('features')\n",
    "\n",
    "\n",
    "#ax.fig.set_size_inches(15,15)\n",
    "# Annotate every single Bar with its value, based on it's width  \n",
    "for p in ax.patches:\n",
    "    width = p.get_width()\n",
    "    if width < 20:\n",
    "        clr = 'red'\n",
    "    else:\n",
    "        clr = 'green'\n",
    "    plt.text(5+p.get_width(), p.get_y()+0.55*p.get_height(),\n",
    "             '{:1.2f}'.format(width),color=clr,\n",
    "             ha='center', va='center')\n",
    "    \n",
    "plt.savefig('plots/scorevsfeature_bloottest.png')"
   ]
  },
  {
   "cell_type": "code",
   "execution_count": 90,
   "metadata": {},
   "outputs": [
    {
     "name": "stdout",
     "output_type": "stream",
     "text": [
      "['patient_age_quantile', 'leukocytes', 'platelets', 'monocytes', 'hematocrit', 'eosinophils', 'red_blood_cells', 'lymphocytes', 'hemoglobin', 'mean_platelet_volume']\n"
     ]
    }
   ],
   "source": [
    "# Remove features with score < 0.039\n",
    "selected_features = []\n",
    "for tup in preSelected_features:\n",
    "    if tup[0] > 0.039:\n",
    "        selected_features.append(tup[1])\n",
    "print(selected_features)        "
   ]
  },
  {
   "cell_type": "code",
   "execution_count": 35,
   "metadata": {},
   "outputs": [],
   "source": [
    "with open(\"selected_features.txt\", \"w\") as output:\n",
    "    output.write(str(selected_features))"
   ]
  },
  {
   "cell_type": "code",
   "execution_count": 36,
   "metadata": {},
   "outputs": [],
   "source": [
    "# Use new data for all subsequent models\n",
    "# Assign new data to X \n",
    "\n",
    "X2 = dataset_new[selected_features].values\n",
    "\n",
    "imputer = SimpleImputer(missing_values=np.nan, strategy='mean')\n",
    "imputer.fit(X2[:, 1:len(selected_features)])\n",
    "X2[:, 1:len(selected_features)] = imputer.transform(X2[:, 1:len(selected_features)])\n",
    "#print(X2)\n",
    "# split data into training and testing\n",
    "X2_train, X2_test, y_train, y_test = train_test_split(X2, y, test_size= 0.2, random_state=42)\n",
    "X2_scaler = StandardScaler().fit(X2_train)\n",
    "X2_train_scaled = X2_scaler.transform(X2_train)\n",
    "X2_test_scaled = X2_scaler.transform(X2_test)\n",
    "#print(X2_train_scaled)\n",
    "#print(X2_test_scaled)"
   ]
  },
  {
   "cell_type": "code",
   "execution_count": 37,
   "metadata": {},
   "outputs": [
    {
     "name": "stdout",
     "output_type": "stream",
     "text": [
      "<class 'numpy.ndarray'>\n"
     ]
    }
   ],
   "source": [
    "print(type(X2))"
   ]
  },
  {
   "cell_type": "code",
   "execution_count": 38,
   "metadata": {},
   "outputs": [
    {
     "name": "stdout",
     "output_type": "stream",
     "text": [
      "[[ 1.30000000e+01  6.21583276e-09 -3.53500284e-10 ... -7.86673635e-09\n",
      "  -1.60131883e-08  7.43814261e-09]\n",
      " [ 1.70000000e+01 -9.46103483e-02 -5.17413020e-01 ...  3.18365753e-01\n",
      "  -2.23402679e-02  1.06765702e-02]\n",
      " [ 8.00000000e+00  6.21583276e-09 -3.53500284e-10 ... -7.86673635e-09\n",
      "  -1.60131883e-08  7.43814261e-09]\n",
      " ...\n",
      " [ 4.00000000e+00  6.21583276e-09 -3.53500284e-10 ... -7.86673635e-09\n",
      "  -1.60131883e-08  7.43814261e-09]\n",
      " [ 1.00000000e+01  6.21583276e-09 -3.53500284e-10 ... -7.86673635e-09\n",
      "  -1.60131883e-08  7.43814261e-09]\n",
      " [ 1.90000000e+01 -1.28842807e+00 -9.06829119e-01 ... -2.95725524e-01\n",
      "   5.41563928e-01 -3.25903296e-01]]\n"
     ]
    }
   ],
   "source": [
    "print(X2)"
   ]
  },
  {
   "cell_type": "code",
   "execution_count": 39,
   "metadata": {},
   "outputs": [
    {
     "name": "stdout",
     "output_type": "stream",
     "text": [
      "(5644, 10)\n"
     ]
    }
   ],
   "source": [
    "print(X2.shape)"
   ]
  },
  {
   "cell_type": "code",
   "execution_count": 40,
   "metadata": {},
   "outputs": [
    {
     "name": "stdout",
     "output_type": "stream",
     "text": [
      "5644\n",
      "patient_age_quantile    1.900000e+01\n",
      "leukocytes              6.215833e-09\n",
      "platelets              -3.535003e-10\n",
      "monocytes              -3.220114e-09\n",
      "hematocrit             -2.186214e-09\n",
      "eosinophils             7.206147e-09\n",
      "red_blood_cells         8.424447e-09\n",
      "hemoglobin             -7.866736e-09\n",
      "lymphocytes            -1.601319e-08\n",
      "mean_platelet_volume    7.438143e-09\n",
      "Name: 19.0, dtype: float64\n"
     ]
    }
   ],
   "source": [
    "columns = ['patient_age_quantile', 'leukocytes', 'platelets', 'monocytes', 'hematocrit', 'eosinophils', 'red_blood_cells', 'hemoglobin', 'lymphocytes', 'mean_platelet_volume']\n",
    "\n",
    "# converting numpy array to pandas\n",
    "df_X2 = pd.DataFrame(data=X2[0:,0:], index=X2[0:,0],columns=columns)  \n",
    "print(len(df_X2))\n",
    "print(df_X2.iloc[5000])"
   ]
  },
  {
   "cell_type": "code",
   "execution_count": 41,
   "metadata": {},
   "outputs": [
    {
     "data": {
      "text/plain": [
       "RandomForestClassifier(bootstrap=True, ccp_alpha=0.0, class_weight=None,\n",
       "                       criterion='gini', max_depth=None, max_features='auto',\n",
       "                       max_leaf_nodes=None, max_samples=None,\n",
       "                       min_impurity_decrease=0.0, min_impurity_split=None,\n",
       "                       min_samples_leaf=1, min_samples_split=2,\n",
       "                       min_weight_fraction_leaf=0.0, n_estimators=200,\n",
       "                       n_jobs=None, oob_score=False, random_state=None,\n",
       "                       verbose=0, warm_start=False)"
      ]
     },
     "execution_count": 41,
     "metadata": {},
     "output_type": "execute_result"
    }
   ],
   "source": [
    "# Train new model\n",
    "model2 = RandomForestClassifier(n_estimators=200)\n",
    "model2.fit(X2_train_scaled, y_train)"
   ]
  },
  {
   "cell_type": "code",
   "execution_count": 42,
   "metadata": {},
   "outputs": [
    {
     "name": "stdout",
     "output_type": "stream",
     "text": [
      "Training Data Score: 0.9149501661129568\n",
      "Testing Data Score: 0.9078830823737821\n"
     ]
    }
   ],
   "source": [
    "print(f\"Training Data Score: {model2.score(X2_train_scaled, y_train)}\")\n",
    "print(f\"Testing Data Score: {model2.score(X2_test_scaled, y_test)}\")"
   ]
  },
  {
   "cell_type": "code",
   "execution_count": 43,
   "metadata": {},
   "outputs": [
    {
     "name": "stdout",
     "output_type": "stream",
     "text": [
      "MSE: 0.09211691762621789, R2: 0.9078830823737821\n"
     ]
    }
   ],
   "source": [
    "predictions_1 = model2.predict(X2_test_scaled)\n",
    "MSE_1 = mean_squared_error(y_test, predictions_1)\n",
    "r2_1 = model2.score(X2_test_scaled, y_test)\n",
    "\n",
    "print(f\"MSE: {MSE_1}, R2: {r2_1}\")"
   ]
  },
  {
   "cell_type": "code",
   "execution_count": 44,
   "metadata": {},
   "outputs": [
    {
     "name": "stdout",
     "output_type": "stream",
     "text": [
      "Fitting 5 folds for each of 72 candidates, totalling 360 fits\n"
     ]
    },
    {
     "name": "stderr",
     "output_type": "stream",
     "text": [
      "[Parallel(n_jobs=-1)]: Using backend LokyBackend with 8 concurrent workers.\n",
      "[Parallel(n_jobs=-1)]: Done  16 tasks      | elapsed:    9.1s\n",
      "[Parallel(n_jobs=-1)]: Done 112 tasks      | elapsed:  1.1min\n",
      "[Parallel(n_jobs=-1)]: Done 272 tasks      | elapsed:  2.7min\n",
      "[Parallel(n_jobs=-1)]: Done 360 out of 360 | elapsed:  3.6min finished\n"
     ]
    },
    {
     "data": {
      "text/plain": [
       "GridSearchCV(cv=5, error_score=nan,\n",
       "             estimator=RandomForestClassifier(bootstrap=True, ccp_alpha=0.0,\n",
       "                                              class_weight=None,\n",
       "                                              criterion='gini', max_depth=None,\n",
       "                                              max_features='auto',\n",
       "                                              max_leaf_nodes=None,\n",
       "                                              max_samples=None,\n",
       "                                              min_impurity_decrease=0.0,\n",
       "                                              min_impurity_split=None,\n",
       "                                              min_samples_leaf=1,\n",
       "                                              min_samples_split=2,\n",
       "                                              min_weight_fraction_leaf=0.0,\n",
       "                                              n_estimators=100, n_jobs=None,\n",
       "                                              oob_score=False, random_state=42,\n",
       "                                              verbose=0, warm_start=False),\n",
       "             iid='deprecated', n_jobs=-1,\n",
       "             param_grid={'max_depth': [14, 15, 16, 17, 18, None],\n",
       "                         'max_features': ['auto', 'sqrt', 'log2'],\n",
       "                         'n_estimators': [200, 600, 1200, 1400]},\n",
       "             pre_dispatch='2*n_jobs', refit=True, return_train_score=False,\n",
       "             scoring=None, verbose=3)"
      ]
     },
     "execution_count": 44,
     "metadata": {},
     "output_type": "execute_result"
    }
   ],
   "source": [
    "# Create the RandomSearchCV model\n",
    "from sklearn.model_selection import GridSearchCV\n",
    "model3 = RandomForestClassifier(random_state=42)\n",
    "\n",
    "param_grid = {\n",
    "    'n_estimators': [200, 600, 1200, 1400],\n",
    "    'max_features': ['auto', 'sqrt', 'log2'],\n",
    "    'max_depth': [14, 15, 16, 17, 18, None]\n",
    "}\n",
    "grid = GridSearchCV(model3, param_grid, cv=5, verbose=3, n_jobs=-1)\n",
    "\n",
    "# Train the model with GridSearch\n",
    "grid.fit(X2_train_scaled, y_train)"
   ]
  },
  {
   "cell_type": "code",
   "execution_count": 45,
   "metadata": {},
   "outputs": [
    {
     "name": "stdout",
     "output_type": "stream",
     "text": [
      "{'max_depth': 14, 'max_features': 'auto', 'n_estimators': 1200}\n",
      "0.9016611295681063\n"
     ]
    }
   ],
   "source": [
    "print(grid.best_params_)\n",
    "print(grid.best_score_)"
   ]
  },
  {
   "cell_type": "code",
   "execution_count": 46,
   "metadata": {},
   "outputs": [
    {
     "name": "stdout",
     "output_type": "stream",
     "text": [
      "Training Data Score: 91.495 %\n",
      "Testing Data Score: 90.7 %\n"
     ]
    }
   ],
   "source": [
    "# Tuned parameters\n",
    "max_features = grid.best_params_['max_features']\n",
    "n_estimators = grid.best_params_['n_estimators']\n",
    "max_depth = grid.best_params_['max_depth']\n",
    "criterion = 'entropy'\n",
    "\n",
    "# Tuned model\n",
    "tuned_model = RandomForestClassifier(max_features=max_features, n_estimators=n_estimators, \n",
    "                                     criterion=criterion, max_depth=max_depth, random_state=42)\n",
    "tuned_model.fit(X2_train_scaled, y_train)\n",
    "model_3_training_score = round(tuned_model.score(X2_train_scaled, y_train)*100,3)\n",
    "tuned_accuracy = round(tuned_model.score(X2_test_scaled, y_test)*100,3)\n",
    "\n",
    "print(f\"Training Data Score: {model_3_training_score} %\")\n",
    "print(f\"Testing Data Score: {tuned_accuracy} %\")"
   ]
  },
  {
   "cell_type": "code",
   "execution_count": 47,
   "metadata": {},
   "outputs": [
    {
     "data": {
      "text/html": [
       "<div>\n",
       "<style scoped>\n",
       "    .dataframe tbody tr th:only-of-type {\n",
       "        vertical-align: middle;\n",
       "    }\n",
       "\n",
       "    .dataframe tbody tr th {\n",
       "        vertical-align: top;\n",
       "    }\n",
       "\n",
       "    .dataframe thead th {\n",
       "        text-align: right;\n",
       "    }\n",
       "</style>\n",
       "<table border=\"1\" class=\"dataframe\">\n",
       "  <thead>\n",
       "    <tr style=\"text-align: right;\">\n",
       "      <th></th>\n",
       "      <th>Actual</th>\n",
       "      <th>Prediction</th>\n",
       "    </tr>\n",
       "  </thead>\n",
       "  <tbody>\n",
       "    <tr>\n",
       "      <th>0</th>\n",
       "      <td>0</td>\n",
       "      <td>0</td>\n",
       "    </tr>\n",
       "    <tr>\n",
       "      <th>1</th>\n",
       "      <td>0</td>\n",
       "      <td>0</td>\n",
       "    </tr>\n",
       "    <tr>\n",
       "      <th>2</th>\n",
       "      <td>0</td>\n",
       "      <td>0</td>\n",
       "    </tr>\n",
       "    <tr>\n",
       "      <th>3</th>\n",
       "      <td>0</td>\n",
       "      <td>0</td>\n",
       "    </tr>\n",
       "    <tr>\n",
       "      <th>4</th>\n",
       "      <td>0</td>\n",
       "      <td>0</td>\n",
       "    </tr>\n",
       "    <tr>\n",
       "      <th>...</th>\n",
       "      <td>...</td>\n",
       "      <td>...</td>\n",
       "    </tr>\n",
       "    <tr>\n",
       "      <th>95</th>\n",
       "      <td>1</td>\n",
       "      <td>0</td>\n",
       "    </tr>\n",
       "    <tr>\n",
       "      <th>96</th>\n",
       "      <td>0</td>\n",
       "      <td>0</td>\n",
       "    </tr>\n",
       "    <tr>\n",
       "      <th>97</th>\n",
       "      <td>0</td>\n",
       "      <td>0</td>\n",
       "    </tr>\n",
       "    <tr>\n",
       "      <th>98</th>\n",
       "      <td>0</td>\n",
       "      <td>0</td>\n",
       "    </tr>\n",
       "    <tr>\n",
       "      <th>99</th>\n",
       "      <td>0</td>\n",
       "      <td>0</td>\n",
       "    </tr>\n",
       "  </tbody>\n",
       "</table>\n",
       "<p>100 rows × 2 columns</p>\n",
       "</div>"
      ],
      "text/plain": [
       "    Actual  Prediction\n",
       "0        0           0\n",
       "1        0           0\n",
       "2        0           0\n",
       "3        0           0\n",
       "4        0           0\n",
       "..     ...         ...\n",
       "95       1           0\n",
       "96       0           0\n",
       "97       0           0\n",
       "98       0           0\n",
       "99       0           0\n",
       "\n",
       "[100 rows x 2 columns]"
      ]
     },
     "execution_count": 47,
     "metadata": {},
     "output_type": "execute_result"
    }
   ],
   "source": [
    "predictions_2 = tuned_model.predict(X2_test_scaled)\n",
    "\n",
    "prediction_actual_2 = {\n",
    "    'Actual': y_test,\n",
    "    'Prediction': predictions_2\n",
    "}\n",
    "\n",
    "df2 = pd.DataFrame(prediction_actual_2)\n",
    "df2 = df2.set_index('Actual').reset_index()\n",
    "df2.head(100)"
   ]
  },
  {
   "cell_type": "code",
   "execution_count": 48,
   "metadata": {},
   "outputs": [
    {
     "data": {
      "text/html": [
       "<div>\n",
       "<style scoped>\n",
       "    .dataframe tbody tr th:only-of-type {\n",
       "        vertical-align: middle;\n",
       "    }\n",
       "\n",
       "    .dataframe tbody tr th {\n",
       "        vertical-align: top;\n",
       "    }\n",
       "\n",
       "    .dataframe thead th {\n",
       "        text-align: right;\n",
       "    }\n",
       "</style>\n",
       "<table border=\"1\" class=\"dataframe\">\n",
       "  <thead>\n",
       "    <tr style=\"text-align: right;\">\n",
       "      <th></th>\n",
       "      <th>Actual</th>\n",
       "      <th>Prediction</th>\n",
       "    </tr>\n",
       "  </thead>\n",
       "  <tbody>\n",
       "    <tr>\n",
       "      <th>6</th>\n",
       "      <td>0</td>\n",
       "      <td>1</td>\n",
       "    </tr>\n",
       "    <tr>\n",
       "      <th>90</th>\n",
       "      <td>1</td>\n",
       "      <td>1</td>\n",
       "    </tr>\n",
       "    <tr>\n",
       "      <th>400</th>\n",
       "      <td>1</td>\n",
       "      <td>1</td>\n",
       "    </tr>\n",
       "    <tr>\n",
       "      <th>417</th>\n",
       "      <td>1</td>\n",
       "      <td>1</td>\n",
       "    </tr>\n",
       "    <tr>\n",
       "      <th>474</th>\n",
       "      <td>0</td>\n",
       "      <td>1</td>\n",
       "    </tr>\n",
       "  </tbody>\n",
       "</table>\n",
       "</div>"
      ],
      "text/plain": [
       "     Actual  Prediction\n",
       "6         0           1\n",
       "90        1           1\n",
       "400       1           1\n",
       "417       1           1\n",
       "474       0           1"
      ]
     },
     "execution_count": 48,
     "metadata": {},
     "output_type": "execute_result"
    }
   ],
   "source": [
    "df2_positive_prediction = df2[df2['Prediction'] == 1]\n",
    "df2_positive_prediction.head()"
   ]
  },
  {
   "cell_type": "code",
   "execution_count": 49,
   "metadata": {},
   "outputs": [],
   "source": [
    "from sklearn.metrics import confusion_matrix \n",
    "from sklearn.metrics import accuracy_score \n",
    "from sklearn.metrics import classification_report\n",
    "cm = confusion_matrix(y_test, predictions_2)\n",
    "tn, fp, fn, tp = confusion_matrix(y_test, predictions_2).ravel()"
   ]
  },
  {
   "cell_type": "code",
   "execution_count": 50,
   "metadata": {},
   "outputs": [
    {
     "name": "stdout",
     "output_type": "stream",
     "text": [
      "Confusion Matrix :\n",
      "[[1017    4]\n",
      " [ 101    7]]\n",
      "1017 4 101 7\n",
      "Accuracy Score : 0.9069973427812223\n",
      "Report : \n",
      "              precision    recall  f1-score   support\n",
      "\n",
      "           0       0.91      1.00      0.95      1021\n",
      "           1       0.64      0.06      0.12       108\n",
      "\n",
      "    accuracy                           0.91      1129\n",
      "   macro avg       0.77      0.53      0.53      1129\n",
      "weighted avg       0.88      0.91      0.87      1129\n",
      "\n"
     ]
    }
   ],
   "source": [
    "print ('Confusion Matrix :')\n",
    "print(cm) \n",
    "print(tn, fp, fn, tp) \n",
    "print ('Accuracy Score :',accuracy_score(y_test, predictions_2) )\n",
    "print ('Report : ')\n",
    "print (classification_report(y_test, predictions_2) )"
   ]
  },
  {
   "cell_type": "code",
   "execution_count": 54,
   "metadata": {},
   "outputs": [
    {
     "data": {
      "text/plain": [
       "(0.06481481481481481,\n",
       " 0.9960822722820764,\n",
       " 0.6363636363636364,\n",
       " 0.909660107334526,\n",
       " 7,\n",
       " 4,\n",
       " 1017,\n",
       " 101)"
      ]
     },
     "execution_count": 54,
     "metadata": {},
     "output_type": "execute_result"
    }
   ],
   "source": [
    "from confusion_matrix import perf_measure\n",
    "\n",
    "perf_measure(y_test,predictions_2)"
   ]
  },
  {
   "cell_type": "code",
   "execution_count": 99,
   "metadata": {},
   "outputs": [
    {
     "data": {
      "image/png": "[encoded data removed]",
      "text/plain": [
       "<Figure size 1008x720 with 2 Axes>"
      ]
     },
     "metadata": {},
     "output_type": "display_data"
    }
   ],
   "source": [
    "import seaborn as sns\n",
    "from sklearn.metrics import accuracy_score, confusion_matrix, precision_recall_fscore_support\n",
    "import numpy as np\n",
    "import matplotlib.pyplot as plt\n",
    "import pandas as pd\n",
    "\n",
    "\n",
    "def plot_cm(y_test,y_pred,labels):\n",
    "    # Creates a confusion matrix\n",
    "    cm = confusion_matrix(y_test, y_pred) # for the tuned model\n",
    "\n",
    "    # Transform to df for easier plotting\n",
    "    cm_df = pd.DataFrame(cm,\n",
    "                        index = labels, \n",
    "                        columns = labels)\n",
    "\n",
    "\n",
    "    plt.figure(figsize=(14,10))  \n",
    "    sns.heatmap(cm_df, annot=True, cmap = \"Greens_r\")\n",
    "    plt.title('RFC \\nAccuracy:{0:.3f}'.format(accuracy_score(y_test, y_pred)))\n",
    "    plt.ylabel('Actual label')\n",
    "    plt.xlabel('Predicted label')\n",
    "    plt.savefig('plots/cm_heatmap_bloottest.png')\n",
    "    plt.show()\n",
    "\n",
    "plot_cm(y_test, predictions_2, ['Negative','Positive'])\n"
   ]
  },
  {
   "cell_type": "code",
   "execution_count": 53,
   "metadata": {},
   "outputs": [
    {
     "name": "stderr",
     "output_type": "stream",
     "text": [
      "/Users/arun/opt/anaconda3/lib/python3.7/site-packages/sklearn/externals/joblib/__init__.py:15: FutureWarning: sklearn.externals.joblib is deprecated in 0.21 and will be removed in 0.23. Please import this functionality directly from joblib, which can be installed with: pip install joblib. If this warning is raised when loading pickled models, you may need to re-serialize those models with scikit-learn 0.21+.\n",
      "  warnings.warn(msg, category=FutureWarning)\n"
     ]
    },
    {
     "data": {
      "text/plain": [
       "['bloottest_RFC_selected_features.pkl']"
      ]
     },
     "execution_count": 53,
     "metadata": {},
     "output_type": "execute_result"
    }
   ],
   "source": [
    "#saving the model\n",
    "# you can you import cPickle as well to save the model\n",
    "from sklearn.externals import joblib\n",
    "\n",
    "# Save the trained model to a file \n",
    "joblib.dump(tuned_model, 'bloottest_RFC_selected_features.pkl')\n"
   ]
  },
  {
   "cell_type": "code",
   "execution_count": 85,
   "metadata": {},
   "outputs": [],
   "source": [
    "#loading the model\n",
    "model_RFC = joblib.load('bloottest_RFC_selected_features.pkl')"
   ]
  },
  {
   "cell_type": "code",
   "execution_count": null,
   "metadata": {},
   "outputs": [],
   "source": [
    "#-1.288428, -0.906829, 0.567652, 0.694287, -0.835508, 0.578024, 0.541564, -0.295726, -0.325903"
   ]
  },
  {
   "cell_type": "code",
   "execution_count": 193,
   "metadata": {},
   "outputs": [
    {
     "name": "stdout",
     "output_type": "stream",
     "text": [
      "[0]\n"
     ]
    }
   ],
   "source": [
    "#prediction\n",
    "print(model_RFC.predict([[ 19, -1.288428, -0.906829, 0.567652, 0.694287, -0.835508, 0.578024, 0.541564, -0.295726, -0.325903]]))"
   ]
  },
  {
   "cell_type": "code",
   "execution_count": null,
   "metadata": {},
   "outputs": [],
   "source": []
  }
 ],
 "metadata": {
  "kernelspec": {
   "display_name": "Python 3",
   "language": "python",
   "name": "python3"
  },
  "language_info": {
   "codemirror_mode": {
    "name": "ipython",
    "version": 3
   },
   "file_extension": ".py",
   "mimetype": "text/x-python",
   "name": "python",
   "nbconvert_exporter": "python",
   "pygments_lexer": "ipython3",
   "version": "3.7.6"
  }
 },
 "nbformat": 4,
 "nbformat_minor": 4
}
