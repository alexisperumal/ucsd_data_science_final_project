{
 "cells": [
  {
   "cell_type": "code",
   "execution_count": null,
   "metadata": {},
   "outputs": [],
   "source": [
    "# UCSD Data Science Bootcamp, Final Project\n",
    "# Alexis Perumal, 5/11/20\n",
    "# Implement Regression Models for Einstein blood marker data.\n",
    "#\n",
    "!pip install sklearn --upgrade"
   ]
  },
  {
   "cell_type": "code",
   "execution_count": null,
   "metadata": {},
   "outputs": [],
   "source": [
    "# install joblib. This will be used to save your model. \n",
    "# Restart your kernel after installing \n",
    "!pip install joblib"
   ]
  },
  {
   "cell_type": "code",
   "execution_count": 2,
   "metadata": {},
   "outputs": [],
   "source": [
    "import pandas as pd\n",
    "import numpy as np"
   ]
  },
  {
   "cell_type": "markdown",
   "metadata": {},
   "source": [
    "# Read the CSV and Perform Basic Data Cleaning"
   ]
  },
  {
   "cell_type": "code",
   "execution_count": 3,
   "metadata": {},
   "outputs": [
    {
     "name": "stdout",
     "output_type": "stream",
     "text": [
      "(5644, 106)\n"
     ]
    },
    {
     "data": {
      "text/html": [
       "<div>\n",
       "<style scoped>\n",
       "    .dataframe tbody tr th:only-of-type {\n",
       "        vertical-align: middle;\n",
       "    }\n",
       "\n",
       "    .dataframe tbody tr th {\n",
       "        vertical-align: top;\n",
       "    }\n",
       "\n",
       "    .dataframe thead th {\n",
       "        text-align: right;\n",
       "    }\n",
       "</style>\n",
       "<table border=\"1\" class=\"dataframe\">\n",
       "  <thead>\n",
       "    <tr style=\"text-align: right;\">\n",
       "      <th></th>\n",
       "      <th>patient_id</th>\n",
       "      <th>patient_age_quantile</th>\n",
       "      <th>sars_cov_2_exam_result</th>\n",
       "      <th>patient_addmited_to_regular_ward_1_yes_0_no</th>\n",
       "      <th>patient_addmited_to_semi_intensive_unit_1_yes_0_no</th>\n",
       "      <th>patient_addmited_to_intensive_care_unit_1_yes_0_no</th>\n",
       "      <th>hematocrit</th>\n",
       "      <th>hemoglobin</th>\n",
       "      <th>platelets</th>\n",
       "      <th>mean_platelet_volume</th>\n",
       "      <th>...</th>\n",
       "      <th>hb_saturation_arterial_blood_gases</th>\n",
       "      <th>pco2_arterial_blood_gas_analysis</th>\n",
       "      <th>base_excess_arterial_blood_gas_analysis</th>\n",
       "      <th>ph_arterial_blood_gas_analysis</th>\n",
       "      <th>total_co2_arterial_blood_gas_analysis</th>\n",
       "      <th>hco3_arterial_blood_gas_analysis</th>\n",
       "      <th>po2_arterial_blood_gas_analysis</th>\n",
       "      <th>arteiral_fio2</th>\n",
       "      <th>phosphor</th>\n",
       "      <th>cto2_arterial_blood_gas_analysis</th>\n",
       "    </tr>\n",
       "  </thead>\n",
       "  <tbody>\n",
       "    <tr>\n",
       "      <th>0</th>\n",
       "      <td>44477f75e8169d2</td>\n",
       "      <td>13</td>\n",
       "      <td>negative</td>\n",
       "      <td>f</td>\n",
       "      <td>f</td>\n",
       "      <td>f</td>\n",
       "      <td>NaN</td>\n",
       "      <td>NaN</td>\n",
       "      <td>NaN</td>\n",
       "      <td>NaN</td>\n",
       "      <td>...</td>\n",
       "      <td>NaN</td>\n",
       "      <td>NaN</td>\n",
       "      <td>NaN</td>\n",
       "      <td>NaN</td>\n",
       "      <td>NaN</td>\n",
       "      <td>NaN</td>\n",
       "      <td>NaN</td>\n",
       "      <td>NaN</td>\n",
       "      <td>NaN</td>\n",
       "      <td>NaN</td>\n",
       "    </tr>\n",
       "    <tr>\n",
       "      <th>1</th>\n",
       "      <td>126e9dd13932f68</td>\n",
       "      <td>17</td>\n",
       "      <td>negative</td>\n",
       "      <td>f</td>\n",
       "      <td>f</td>\n",
       "      <td>f</td>\n",
       "      <td>0.236515</td>\n",
       "      <td>-0.02234</td>\n",
       "      <td>-0.517413</td>\n",
       "      <td>0.010677</td>\n",
       "      <td>...</td>\n",
       "      <td>NaN</td>\n",
       "      <td>NaN</td>\n",
       "      <td>NaN</td>\n",
       "      <td>NaN</td>\n",
       "      <td>NaN</td>\n",
       "      <td>NaN</td>\n",
       "      <td>NaN</td>\n",
       "      <td>NaN</td>\n",
       "      <td>NaN</td>\n",
       "      <td>NaN</td>\n",
       "    </tr>\n",
       "    <tr>\n",
       "      <th>2</th>\n",
       "      <td>a46b4402a0e5696</td>\n",
       "      <td>8</td>\n",
       "      <td>negative</td>\n",
       "      <td>f</td>\n",
       "      <td>f</td>\n",
       "      <td>f</td>\n",
       "      <td>NaN</td>\n",
       "      <td>NaN</td>\n",
       "      <td>NaN</td>\n",
       "      <td>NaN</td>\n",
       "      <td>...</td>\n",
       "      <td>NaN</td>\n",
       "      <td>NaN</td>\n",
       "      <td>NaN</td>\n",
       "      <td>NaN</td>\n",
       "      <td>NaN</td>\n",
       "      <td>NaN</td>\n",
       "      <td>NaN</td>\n",
       "      <td>NaN</td>\n",
       "      <td>NaN</td>\n",
       "      <td>NaN</td>\n",
       "    </tr>\n",
       "    <tr>\n",
       "      <th>3</th>\n",
       "      <td>f7d619a94f97c45</td>\n",
       "      <td>5</td>\n",
       "      <td>negative</td>\n",
       "      <td>f</td>\n",
       "      <td>f</td>\n",
       "      <td>f</td>\n",
       "      <td>NaN</td>\n",
       "      <td>NaN</td>\n",
       "      <td>NaN</td>\n",
       "      <td>NaN</td>\n",
       "      <td>...</td>\n",
       "      <td>NaN</td>\n",
       "      <td>NaN</td>\n",
       "      <td>NaN</td>\n",
       "      <td>NaN</td>\n",
       "      <td>NaN</td>\n",
       "      <td>NaN</td>\n",
       "      <td>NaN</td>\n",
       "      <td>NaN</td>\n",
       "      <td>NaN</td>\n",
       "      <td>NaN</td>\n",
       "    </tr>\n",
       "    <tr>\n",
       "      <th>4</th>\n",
       "      <td>d9e41465789c2b5</td>\n",
       "      <td>15</td>\n",
       "      <td>negative</td>\n",
       "      <td>f</td>\n",
       "      <td>f</td>\n",
       "      <td>f</td>\n",
       "      <td>NaN</td>\n",
       "      <td>NaN</td>\n",
       "      <td>NaN</td>\n",
       "      <td>NaN</td>\n",
       "      <td>...</td>\n",
       "      <td>NaN</td>\n",
       "      <td>NaN</td>\n",
       "      <td>NaN</td>\n",
       "      <td>NaN</td>\n",
       "      <td>NaN</td>\n",
       "      <td>NaN</td>\n",
       "      <td>NaN</td>\n",
       "      <td>NaN</td>\n",
       "      <td>NaN</td>\n",
       "      <td>NaN</td>\n",
       "    </tr>\n",
       "  </tbody>\n",
       "</table>\n",
       "<p>5 rows × 106 columns</p>\n",
       "</div>"
      ],
      "text/plain": [
       "        patient_id  patient_age_quantile sars_cov_2_exam_result  \\\n",
       "0  44477f75e8169d2                    13               negative   \n",
       "1  126e9dd13932f68                    17               negative   \n",
       "2  a46b4402a0e5696                     8               negative   \n",
       "3  f7d619a94f97c45                     5               negative   \n",
       "4  d9e41465789c2b5                    15               negative   \n",
       "\n",
       "  patient_addmited_to_regular_ward_1_yes_0_no  \\\n",
       "0                                           f   \n",
       "1                                           f   \n",
       "2                                           f   \n",
       "3                                           f   \n",
       "4                                           f   \n",
       "\n",
       "  patient_addmited_to_semi_intensive_unit_1_yes_0_no  \\\n",
       "0                                                  f   \n",
       "1                                                  f   \n",
       "2                                                  f   \n",
       "3                                                  f   \n",
       "4                                                  f   \n",
       "\n",
       "  patient_addmited_to_intensive_care_unit_1_yes_0_no  hematocrit  hemoglobin  \\\n",
       "0                                                  f         NaN         NaN   \n",
       "1                                                  f    0.236515    -0.02234   \n",
       "2                                                  f         NaN         NaN   \n",
       "3                                                  f         NaN         NaN   \n",
       "4                                                  f         NaN         NaN   \n",
       "\n",
       "   platelets  mean_platelet_volume  ...  hb_saturation_arterial_blood_gases  \\\n",
       "0        NaN                   NaN  ...                                 NaN   \n",
       "1  -0.517413              0.010677  ...                                 NaN   \n",
       "2        NaN                   NaN  ...                                 NaN   \n",
       "3        NaN                   NaN  ...                                 NaN   \n",
       "4        NaN                   NaN  ...                                 NaN   \n",
       "\n",
       "   pco2_arterial_blood_gas_analysis  base_excess_arterial_blood_gas_analysis  \\\n",
       "0                               NaN                                      NaN   \n",
       "1                               NaN                                      NaN   \n",
       "2                               NaN                                      NaN   \n",
       "3                               NaN                                      NaN   \n",
       "4                               NaN                                      NaN   \n",
       "\n",
       "   ph_arterial_blood_gas_analysis  total_co2_arterial_blood_gas_analysis  \\\n",
       "0                             NaN                                    NaN   \n",
       "1                             NaN                                    NaN   \n",
       "2                             NaN                                    NaN   \n",
       "3                             NaN                                    NaN   \n",
       "4                             NaN                                    NaN   \n",
       "\n",
       "   hco3_arterial_blood_gas_analysis  po2_arterial_blood_gas_analysis  \\\n",
       "0                               NaN                              NaN   \n",
       "1                               NaN                              NaN   \n",
       "2                               NaN                              NaN   \n",
       "3                               NaN                              NaN   \n",
       "4                               NaN                              NaN   \n",
       "\n",
       "   arteiral_fio2  phosphor  cto2_arterial_blood_gas_analysis  \n",
       "0            NaN       NaN                               NaN  \n",
       "1            NaN       NaN                               NaN  \n",
       "2            NaN       NaN                               NaN  \n",
       "3            NaN       NaN                               NaN  \n",
       "4            NaN       NaN                               NaN  \n",
       "\n",
       "[5 rows x 106 columns]"
      ]
     },
     "execution_count": 3,
     "metadata": {},
     "output_type": "execute_result"
    }
   ],
   "source": [
    "dataset_filename = 'Resources/diagnosis-of-covid-19-and-its-clinical-spectrum.csv'\n",
    "\n",
    "df = pd.read_csv(dataset_filename)\n",
    "# Drop the null columns where all values are null\n",
    "df = df.dropna(axis='columns', how='all')\n",
    "# # Drop the null rows\n",
    "# df = df.dropna()\n",
    "print(df.shape)\n",
    "df.head()"
   ]
  },
  {
   "cell_type": "code",
   "execution_count": 4,
   "metadata": {},
   "outputs": [
    {
     "data": {
      "text/plain": [
       "Index(['patient_id', 'patient_age_quantile', 'sars_cov_2_exam_result',\n",
       "       'patient_addmited_to_regular_ward_1_yes_0_no',\n",
       "       'patient_addmited_to_semi_intensive_unit_1_yes_0_no',\n",
       "       'patient_addmited_to_intensive_care_unit_1_yes_0_no', 'hematocrit',\n",
       "       'hemoglobin', 'platelets', 'mean_platelet_volume',\n",
       "       ...\n",
       "       'hb_saturation_arterial_blood_gases',\n",
       "       'pco2_arterial_blood_gas_analysis',\n",
       "       'base_excess_arterial_blood_gas_analysis',\n",
       "       'ph_arterial_blood_gas_analysis',\n",
       "       'total_co2_arterial_blood_gas_analysis',\n",
       "       'hco3_arterial_blood_gas_analysis', 'po2_arterial_blood_gas_analysis',\n",
       "       'arteiral_fio2', 'phosphor', 'cto2_arterial_blood_gas_analysis'],\n",
       "      dtype='object', length=106)"
      ]
     },
     "execution_count": 4,
     "metadata": {},
     "output_type": "execute_result"
    }
   ],
   "source": [
    "df.columns"
   ]
  },
  {
   "cell_type": "markdown",
   "metadata": {},
   "source": [
    "# Select your features (columns)"
   ]
  },
  {
   "cell_type": "code",
   "execution_count": 5,
   "metadata": {},
   "outputs": [
    {
     "data": {
      "text/html": [
       "<div>\n",
       "<style scoped>\n",
       "    .dataframe tbody tr th:only-of-type {\n",
       "        vertical-align: middle;\n",
       "    }\n",
       "\n",
       "    .dataframe tbody tr th {\n",
       "        vertical-align: top;\n",
       "    }\n",
       "\n",
       "    .dataframe thead th {\n",
       "        text-align: right;\n",
       "    }\n",
       "</style>\n",
       "<table border=\"1\" class=\"dataframe\">\n",
       "  <thead>\n",
       "    <tr style=\"text-align: right;\">\n",
       "      <th></th>\n",
       "      <th>sars_cov_2_exam_result</th>\n",
       "      <th>patient_age_quantile</th>\n",
       "      <th>leukocytes</th>\n",
       "      <th>platelets</th>\n",
       "      <th>monocytes</th>\n",
       "      <th>hematocrit</th>\n",
       "      <th>eosinophils</th>\n",
       "      <th>red_blood_cells</th>\n",
       "      <th>lymphocytes</th>\n",
       "      <th>hemoglobin</th>\n",
       "      <th>mean_platelet_volume</th>\n",
       "    </tr>\n",
       "  </thead>\n",
       "  <tbody>\n",
       "    <tr>\n",
       "      <th>0</th>\n",
       "      <td>negative</td>\n",
       "      <td>13</td>\n",
       "      <td>NaN</td>\n",
       "      <td>NaN</td>\n",
       "      <td>NaN</td>\n",
       "      <td>NaN</td>\n",
       "      <td>NaN</td>\n",
       "      <td>NaN</td>\n",
       "      <td>NaN</td>\n",
       "      <td>NaN</td>\n",
       "      <td>NaN</td>\n",
       "    </tr>\n",
       "    <tr>\n",
       "      <th>1</th>\n",
       "      <td>negative</td>\n",
       "      <td>17</td>\n",
       "      <td>-0.09461</td>\n",
       "      <td>-0.517413</td>\n",
       "      <td>0.357547</td>\n",
       "      <td>0.236515</td>\n",
       "      <td>1.482158</td>\n",
       "      <td>0.102004</td>\n",
       "      <td>0.318366</td>\n",
       "      <td>-0.02234</td>\n",
       "      <td>0.010677</td>\n",
       "    </tr>\n",
       "    <tr>\n",
       "      <th>2</th>\n",
       "      <td>negative</td>\n",
       "      <td>8</td>\n",
       "      <td>NaN</td>\n",
       "      <td>NaN</td>\n",
       "      <td>NaN</td>\n",
       "      <td>NaN</td>\n",
       "      <td>NaN</td>\n",
       "      <td>NaN</td>\n",
       "      <td>NaN</td>\n",
       "      <td>NaN</td>\n",
       "      <td>NaN</td>\n",
       "    </tr>\n",
       "    <tr>\n",
       "      <th>3</th>\n",
       "      <td>negative</td>\n",
       "      <td>5</td>\n",
       "      <td>NaN</td>\n",
       "      <td>NaN</td>\n",
       "      <td>NaN</td>\n",
       "      <td>NaN</td>\n",
       "      <td>NaN</td>\n",
       "      <td>NaN</td>\n",
       "      <td>NaN</td>\n",
       "      <td>NaN</td>\n",
       "      <td>NaN</td>\n",
       "    </tr>\n",
       "    <tr>\n",
       "      <th>4</th>\n",
       "      <td>negative</td>\n",
       "      <td>15</td>\n",
       "      <td>NaN</td>\n",
       "      <td>NaN</td>\n",
       "      <td>NaN</td>\n",
       "      <td>NaN</td>\n",
       "      <td>NaN</td>\n",
       "      <td>NaN</td>\n",
       "      <td>NaN</td>\n",
       "      <td>NaN</td>\n",
       "      <td>NaN</td>\n",
       "    </tr>\n",
       "  </tbody>\n",
       "</table>\n",
       "</div>"
      ],
      "text/plain": [
       "  sars_cov_2_exam_result  patient_age_quantile  leukocytes  platelets  \\\n",
       "0               negative                    13         NaN        NaN   \n",
       "1               negative                    17    -0.09461  -0.517413   \n",
       "2               negative                     8         NaN        NaN   \n",
       "3               negative                     5         NaN        NaN   \n",
       "4               negative                    15         NaN        NaN   \n",
       "\n",
       "   monocytes  hematocrit  eosinophils  red_blood_cells  lymphocytes  \\\n",
       "0        NaN         NaN          NaN              NaN          NaN   \n",
       "1   0.357547    0.236515     1.482158         0.102004     0.318366   \n",
       "2        NaN         NaN          NaN              NaN          NaN   \n",
       "3        NaN         NaN          NaN              NaN          NaN   \n",
       "4        NaN         NaN          NaN              NaN          NaN   \n",
       "\n",
       "   hemoglobin  mean_platelet_volume  \n",
       "0         NaN                   NaN  \n",
       "1    -0.02234              0.010677  \n",
       "2         NaN                   NaN  \n",
       "3         NaN                   NaN  \n",
       "4         NaN                   NaN  "
      ]
     },
     "execution_count": 5,
     "metadata": {},
     "output_type": "execute_result"
    }
   ],
   "source": [
    "# Set features. This will also be used as your x values.\n",
    "# selected_features = df[['names', 'of', 'selected', 'features', 'here']]\n",
    "selected_features = df[ ['sars_cov_2_exam_result', 'patient_age_quantile', 'leukocytes', 'platelets', 'monocytes', 'hematocrit', 'eosinophils',\n",
    "                         'red_blood_cells', 'lymphocytes', 'hemoglobin', 'mean_platelet_volume'] ]\n",
    "selected_features.head()"
   ]
  },
  {
   "cell_type": "code",
   "execution_count": 6,
   "metadata": {},
   "outputs": [
    {
     "name": "stdout",
     "output_type": "stream",
     "text": [
      "(5644, 11)\n",
      "(598, 11)\n"
     ]
    }
   ],
   "source": [
    "# # Drop the null rows\n",
    "print(selected_features.shape)\n",
    "selected_features = selected_features.dropna()\n",
    "print(selected_features.shape)"
   ]
  },
  {
   "cell_type": "markdown",
   "metadata": {},
   "source": [
    "# Create a Train Test Split\n",
    "\n",
    "Use `koi_disposition` for the y values"
   ]
  },
  {
   "cell_type": "code",
   "execution_count": 7,
   "metadata": {},
   "outputs": [
    {
     "data": {
      "text/plain": [
       "1       0.0\n",
       "8       0.0\n",
       "15      0.0\n",
       "18      0.0\n",
       "22      0.0\n",
       "       ... \n",
       "5602    0.0\n",
       "5614    0.0\n",
       "5615    0.0\n",
       "5618    0.0\n",
       "5643    1.0\n",
       "Name: sars_cov_2_exam_result, Length: 598, dtype: float64"
      ]
     },
     "execution_count": 7,
     "metadata": {},
     "output_type": "execute_result"
    }
   ],
   "source": [
    "# y = df[\"koi_disposition\"].map({'CANDIDATE':0.0, 'CONFIRMED':1.0, 'FALSE POSITIVE':0.0}).values.reshape(-1, 1)\n",
    "y = selected_features['sars_cov_2_exam_result'].map({'positive':1.0, 'negative':0.0})\n",
    "X = selected_features[ ['patient_age_quantile', 'leukocytes', 'platelets', 'monocytes', 'hematocrit', 'eosinophils',\n",
    "                         'red_blood_cells', 'lymphocytes', 'hemoglobin', 'mean_platelet_volume'] ]\n",
    "\n",
    "from sklearn.model_selection import train_test_split\n",
    "\n",
    "X_train, X_test, y_train, y_test = train_test_split(X, y, random_state=1)\n",
    "\n",
    "y"
   ]
  },
  {
   "cell_type": "code",
   "execution_count": 8,
   "metadata": {},
   "outputs": [
    {
     "data": {
      "text/plain": [
       "pandas.core.series.Series"
      ]
     },
     "execution_count": 8,
     "metadata": {},
     "output_type": "execute_result"
    }
   ],
   "source": [
    "type(y)"
   ]
  },
  {
   "cell_type": "code",
   "execution_count": 10,
   "metadata": {},
   "outputs": [
    {
     "name": "stdout",
     "output_type": "stream",
     "text": [
      "Positive outcomes:  81 ,  13.5 %\n",
      "Negative outcomes:  517 ,  86.5 %\n"
     ]
    }
   ],
   "source": [
    "total = len(y)\n",
    "y_pos = len(y.loc[(y==1.0)])\n",
    "y_neg = len(y.loc[(y==0.0)])\n",
    "print('Positive outcomes: ', y_pos, ', ', round(y_pos/total*100.0, 1), '%' )\n",
    "print('Negative outcomes: ', y_neg, ', ', round(y_neg/total*100.0, 1), '%' )"
   ]
  },
  {
   "cell_type": "code",
   "execution_count": 11,
   "metadata": {},
   "outputs": [
    {
     "name": "stdout",
     "output_type": "stream",
     "text": [
      "X_train length:  448\n",
      "X_test length:  150\n",
      "y_train length:  448\n",
      "y_test length:  150\n",
      "(448, 10)\n"
     ]
    },
    {
     "data": {
      "text/html": [
       "<div>\n",
       "<style scoped>\n",
       "    .dataframe tbody tr th:only-of-type {\n",
       "        vertical-align: middle;\n",
       "    }\n",
       "\n",
       "    .dataframe tbody tr th {\n",
       "        vertical-align: top;\n",
       "    }\n",
       "\n",
       "    .dataframe thead th {\n",
       "        text-align: right;\n",
       "    }\n",
       "</style>\n",
       "<table border=\"1\" class=\"dataframe\">\n",
       "  <thead>\n",
       "    <tr style=\"text-align: right;\">\n",
       "      <th></th>\n",
       "      <th>patient_age_quantile</th>\n",
       "      <th>leukocytes</th>\n",
       "      <th>platelets</th>\n",
       "      <th>monocytes</th>\n",
       "      <th>hematocrit</th>\n",
       "      <th>eosinophils</th>\n",
       "      <th>red_blood_cells</th>\n",
       "      <th>lymphocytes</th>\n",
       "      <th>hemoglobin</th>\n",
       "      <th>mean_platelet_volume</th>\n",
       "    </tr>\n",
       "  </thead>\n",
       "  <tbody>\n",
       "    <tr>\n",
       "      <th>5581</th>\n",
       "      <td>19</td>\n",
       "      <td>0.609436</td>\n",
       "      <td>0.826701</td>\n",
       "      <td>-0.167718</td>\n",
       "      <td>-2.212562</td>\n",
       "      <td>0.344395</td>\n",
       "      <td>-2.031269</td>\n",
       "      <td>-0.312784</td>\n",
       "      <td>-2.027332</td>\n",
       "      <td>-0.325903</td>\n",
       "    </tr>\n",
       "    <tr>\n",
       "      <th>303</th>\n",
       "      <td>15</td>\n",
       "      <td>-0.871009</td>\n",
       "      <td>-1.321369</td>\n",
       "      <td>2.957604</td>\n",
       "      <td>-0.564585</td>\n",
       "      <td>0.386534</td>\n",
       "      <td>-0.215342</td>\n",
       "      <td>-0.295726</td>\n",
       "      <td>-0.460932</td>\n",
       "      <td>0.908221</td>\n",
       "    </tr>\n",
       "    <tr>\n",
       "      <th>5172</th>\n",
       "      <td>4</td>\n",
       "      <td>1.257827</td>\n",
       "      <td>-0.165682</td>\n",
       "      <td>-0.482876</td>\n",
       "      <td>-0.862136</td>\n",
       "      <td>-0.835508</td>\n",
       "      <td>-1.202642</td>\n",
       "      <td>0.437772</td>\n",
       "      <td>-0.335620</td>\n",
       "      <td>-0.999063</td>\n",
       "    </tr>\n",
       "    <tr>\n",
       "      <th>22</th>\n",
       "      <td>9</td>\n",
       "      <td>-1.132592</td>\n",
       "      <td>-0.668155</td>\n",
       "      <td>2.012129</td>\n",
       "      <td>0.190738</td>\n",
       "      <td>-0.709090</td>\n",
       "      <td>-0.127191</td>\n",
       "      <td>0.002791</td>\n",
       "      <td>-0.147652</td>\n",
       "      <td>1.020415</td>\n",
       "    </tr>\n",
       "    <tr>\n",
       "      <th>1317</th>\n",
       "      <td>10</td>\n",
       "      <td>0.492559</td>\n",
       "      <td>0.374475</td>\n",
       "      <td>-1.612194</td>\n",
       "      <td>-0.495919</td>\n",
       "      <td>-0.624811</td>\n",
       "      <td>-0.814774</td>\n",
       "      <td>-0.432190</td>\n",
       "      <td>-0.523588</td>\n",
       "      <td>0.683835</td>\n",
       "    </tr>\n",
       "  </tbody>\n",
       "</table>\n",
       "</div>"
      ],
      "text/plain": [
       "      patient_age_quantile  leukocytes  platelets  monocytes  hematocrit  \\\n",
       "5581                    19    0.609436   0.826701  -0.167718   -2.212562   \n",
       "303                     15   -0.871009  -1.321369   2.957604   -0.564585   \n",
       "5172                     4    1.257827  -0.165682  -0.482876   -0.862136   \n",
       "22                       9   -1.132592  -0.668155   2.012129    0.190738   \n",
       "1317                    10    0.492559   0.374475  -1.612194   -0.495919   \n",
       "\n",
       "      eosinophils  red_blood_cells  lymphocytes  hemoglobin  \\\n",
       "5581     0.344395        -2.031269    -0.312784   -2.027332   \n",
       "303      0.386534        -0.215342    -0.295726   -0.460932   \n",
       "5172    -0.835508        -1.202642     0.437772   -0.335620   \n",
       "22      -0.709090        -0.127191     0.002791   -0.147652   \n",
       "1317    -0.624811        -0.814774    -0.432190   -0.523588   \n",
       "\n",
       "      mean_platelet_volume  \n",
       "5581             -0.325903  \n",
       "303               0.908221  \n",
       "5172             -0.999063  \n",
       "22                1.020415  \n",
       "1317              0.683835  "
      ]
     },
     "execution_count": 11,
     "metadata": {},
     "output_type": "execute_result"
    }
   ],
   "source": [
    "print(\"X_train length: \", len(X_train))\n",
    "print(\"X_test length: \", len(X_test))\n",
    "print(\"y_train length: \", len(y_train))\n",
    "print(\"y_test length: \", len(y_test))\n",
    "print(X_train.shape)\n",
    "X_train.head()"
   ]
  },
  {
   "cell_type": "markdown",
   "metadata": {},
   "source": [
    "# Pre-processing\n",
    "\n",
    "Scale the data using the MinMaxScaler and perform some feature selection"
   ]
  },
  {
   "cell_type": "code",
   "execution_count": 12,
   "metadata": {},
   "outputs": [
    {
     "data": {
      "text/html": [
       "<div>\n",
       "<style scoped>\n",
       "    .dataframe tbody tr th:only-of-type {\n",
       "        vertical-align: middle;\n",
       "    }\n",
       "\n",
       "    .dataframe tbody tr th {\n",
       "        vertical-align: top;\n",
       "    }\n",
       "\n",
       "    .dataframe thead th {\n",
       "        text-align: right;\n",
       "    }\n",
       "</style>\n",
       "<table border=\"1\" class=\"dataframe\">\n",
       "  <thead>\n",
       "    <tr style=\"text-align: right;\">\n",
       "      <th></th>\n",
       "      <th>patient_age_quantile</th>\n",
       "      <th>leukocytes</th>\n",
       "      <th>platelets</th>\n",
       "      <th>monocytes</th>\n",
       "      <th>hematocrit</th>\n",
       "      <th>eosinophils</th>\n",
       "      <th>red_blood_cells</th>\n",
       "      <th>lymphocytes</th>\n",
       "      <th>hemoglobin</th>\n",
       "      <th>mean_platelet_volume</th>\n",
       "    </tr>\n",
       "  </thead>\n",
       "  <tbody>\n",
       "    <tr>\n",
       "      <th>5581</th>\n",
       "      <td>19</td>\n",
       "      <td>0.609436</td>\n",
       "      <td>0.826701</td>\n",
       "      <td>-0.167718</td>\n",
       "      <td>-2.212562</td>\n",
       "      <td>0.344395</td>\n",
       "      <td>-2.031269</td>\n",
       "      <td>-0.312784</td>\n",
       "      <td>-2.027332</td>\n",
       "      <td>-0.325903</td>\n",
       "    </tr>\n",
       "    <tr>\n",
       "      <th>303</th>\n",
       "      <td>15</td>\n",
       "      <td>-0.871009</td>\n",
       "      <td>-1.321369</td>\n",
       "      <td>2.957604</td>\n",
       "      <td>-0.564585</td>\n",
       "      <td>0.386534</td>\n",
       "      <td>-0.215342</td>\n",
       "      <td>-0.295726</td>\n",
       "      <td>-0.460932</td>\n",
       "      <td>0.908221</td>\n",
       "    </tr>\n",
       "    <tr>\n",
       "      <th>5172</th>\n",
       "      <td>4</td>\n",
       "      <td>1.257827</td>\n",
       "      <td>-0.165682</td>\n",
       "      <td>-0.482876</td>\n",
       "      <td>-0.862136</td>\n",
       "      <td>-0.835508</td>\n",
       "      <td>-1.202642</td>\n",
       "      <td>0.437772</td>\n",
       "      <td>-0.335620</td>\n",
       "      <td>-0.999063</td>\n",
       "    </tr>\n",
       "    <tr>\n",
       "      <th>22</th>\n",
       "      <td>9</td>\n",
       "      <td>-1.132592</td>\n",
       "      <td>-0.668155</td>\n",
       "      <td>2.012129</td>\n",
       "      <td>0.190738</td>\n",
       "      <td>-0.709090</td>\n",
       "      <td>-0.127191</td>\n",
       "      <td>0.002791</td>\n",
       "      <td>-0.147652</td>\n",
       "      <td>1.020415</td>\n",
       "    </tr>\n",
       "    <tr>\n",
       "      <th>1317</th>\n",
       "      <td>10</td>\n",
       "      <td>0.492559</td>\n",
       "      <td>0.374475</td>\n",
       "      <td>-1.612194</td>\n",
       "      <td>-0.495919</td>\n",
       "      <td>-0.624811</td>\n",
       "      <td>-0.814774</td>\n",
       "      <td>-0.432190</td>\n",
       "      <td>-0.523588</td>\n",
       "      <td>0.683835</td>\n",
       "    </tr>\n",
       "  </tbody>\n",
       "</table>\n",
       "</div>"
      ],
      "text/plain": [
       "      patient_age_quantile  leukocytes  platelets  monocytes  hematocrit  \\\n",
       "5581                    19    0.609436   0.826701  -0.167718   -2.212562   \n",
       "303                     15   -0.871009  -1.321369   2.957604   -0.564585   \n",
       "5172                     4    1.257827  -0.165682  -0.482876   -0.862136   \n",
       "22                       9   -1.132592  -0.668155   2.012129    0.190738   \n",
       "1317                    10    0.492559   0.374475  -1.612194   -0.495919   \n",
       "\n",
       "      eosinophils  red_blood_cells  lymphocytes  hemoglobin  \\\n",
       "5581     0.344395        -2.031269    -0.312784   -2.027332   \n",
       "303      0.386534        -0.215342    -0.295726   -0.460932   \n",
       "5172    -0.835508        -1.202642     0.437772   -0.335620   \n",
       "22      -0.709090        -0.127191     0.002791   -0.147652   \n",
       "1317    -0.624811        -0.814774    -0.432190   -0.523588   \n",
       "\n",
       "      mean_platelet_volume  \n",
       "5581             -0.325903  \n",
       "303               0.908221  \n",
       "5172             -0.999063  \n",
       "22                1.020415  \n",
       "1317              0.683835  "
      ]
     },
     "execution_count": 12,
     "metadata": {},
     "output_type": "execute_result"
    }
   ],
   "source": [
    "X_train.head()"
   ]
  },
  {
   "cell_type": "code",
   "execution_count": 13,
   "metadata": {},
   "outputs": [],
   "source": [
    "# Scale your data\n",
    "from sklearn.preprocessing import StandardScaler\n",
    "X_scaler = StandardScaler().fit(X_train)\n",
    "# y_scaler = StandardScaler().fit(y_train)"
   ]
  },
  {
   "cell_type": "code",
   "execution_count": 14,
   "metadata": {},
   "outputs": [],
   "source": [
    "X_train_scaled = X_scaler.transform(X_train)\n",
    "X_test_scaled = X_scaler.transform(X_test)\n",
    "# y_train_scaled = y_scaler.transform(y_train)\n",
    "# y_test_scaled = y_scaler.transform(y_test)"
   ]
  },
  {
   "cell_type": "markdown",
   "metadata": {},
   "source": [
    "# Setup Evaluation of Multiple Models"
   ]
  },
  {
   "cell_type": "code",
   "execution_count": 19,
   "metadata": {},
   "outputs": [],
   "source": [
    "# # Classifier Models\n",
    "# from sklearn.linear_model import LogisticRegression\n",
    "# from sklearn.ensemble import RandomForestClassifier\n",
    "# from sklearn.neighbors import KNeighborsClassifier\n",
    "# from sklearn.svm import SVC\n",
    "# from sklearn.linear_model import SGDClassifier\n",
    "\n",
    "# Regression Models\n",
    "from sklearn import linear_model\n",
    "from sklearn import svm"
   ]
  },
  {
   "cell_type": "code",
   "execution_count": 24,
   "metadata": {},
   "outputs": [],
   "source": [
    "# # Classifier Models\n",
    "# lr = LogisticRegression(random_state=99, max_iter=500) # Max_iter=100 (default) generated a warning\n",
    "# rf = RandomForestClassifier(random_state=99)\n",
    "# knn = KNeighborsClassifier(n_neighbors=10)\n",
    "# svm_model = SVC()\n",
    "# sgd = SGDClassifier(shuffle=True)\n",
    "\n",
    "# models = [lr, rf, knn, svm_model, sgd]\n",
    "# names = ['Logistic Regression', 'Random Forest', 'K Nearest Neighbbors', 'Support Vector Classification',\n",
    "#         'Stochastic Gradient Descent']\n",
    "\n",
    "# Regression Models\n",
    "linear_regression = linear_model.LinearRegression()\n",
    "ridge_regression = linear_model.Ridge(alpha=.5)\n",
    "svregression = svm.SVR()\n",
    "\n",
    "models = [linear_regression, ridge_regression, svregression]\n",
    "names = ['OLS linear Regression', 'Ridge Regression', 'Support Vector Regression']\n",
    "\n"
   ]
  },
  {
   "cell_type": "code",
   "execution_count": 25,
   "metadata": {},
   "outputs": [
    {
     "name": "stdout",
     "output_type": "stream",
     "text": [
      "OLS linear Regression 0.12590304986325895\n",
      "Ridge Regression 0.12618241164046196\n",
      "Support Vector Regression 0.2066331783768467\n"
     ]
    }
   ],
   "source": [
    "for name, model in zip(names, models):\n",
    "    model.fit(X_train_scaled, y_train)\n",
    "    score = model.score(X_test_scaled, y_test)\n",
    "    print(name, score)"
   ]
  },
  {
   "cell_type": "markdown",
   "metadata": {},
   "source": [
    "# Save to PKL file"
   ]
  },
  {
   "cell_type": "code",
   "execution_count": 35,
   "metadata": {},
   "outputs": [],
   "source": [
    "# See: https://machinelearningmastery.com/save-load-machine-learning-models-python-scikit-learn/\n",
    "import pickle\n",
    "\n",
    "filename = 'Models/logistic_regression_classifier-alexis.pkl'\n",
    "pickle.dump(lr, open(filename, 'wb'))\n"
   ]
  },
  {
   "cell_type": "markdown",
   "metadata": {},
   "source": [
    "# Test the PKL file"
   ]
  },
  {
   "cell_type": "code",
   "execution_count": 36,
   "metadata": {},
   "outputs": [
    {
     "name": "stdout",
     "output_type": "stream",
     "text": [
      "0.88\n"
     ]
    }
   ],
   "source": [
    "loaded_model = pickle.load(open(filename, 'rb'))\n",
    "result = loaded_model.score(X_test_scaled, y_test)\n",
    "print(result)"
   ]
  },
  {
   "cell_type": "code",
   "execution_count": null,
   "metadata": {},
   "outputs": [],
   "source": []
  }
 ],
 "metadata": {
  "kernel_info": {
   "name": "dev"
  },
  "kernelspec": {
   "display_name": "py365_for_class",
   "language": "python",
   "name": "py365_for_class"
  },
  "language_info": {
   "codemirror_mode": {
    "name": "ipython",
    "version": 3
   },
   "file_extension": ".py",
   "mimetype": "text/x-python",
   "name": "python",
   "nbconvert_exporter": "python",
   "pygments_lexer": "ipython3",
   "version": "3.6.5"
  },
  "nteract": {
   "version": "0.12.3"
  }
 },
 "nbformat": 4,
 "nbformat_minor": 2
}
